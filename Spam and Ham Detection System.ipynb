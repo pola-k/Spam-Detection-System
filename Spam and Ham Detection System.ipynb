{
 "cells": [
  {
   "cell_type": "code",
   "execution_count": 3,
   "id": "d7e22bf7-b925-4a56-9108-43f8fb4ac14f",
   "metadata": {},
   "outputs": [
    {
     "name": "stderr",
     "output_type": "stream",
     "text": [
      "[nltk_data] Downloading package stopwords to C:\\Users\\S H\n",
      "[nltk_data]     K\\AppData\\Roaming\\nltk_data...\n",
      "[nltk_data]   Package stopwords is already up-to-date!\n",
      "[nltk_data] Downloading package wordnet to C:\\Users\\S H\n",
      "[nltk_data]     K\\AppData\\Roaming\\nltk_data...\n",
      "[nltk_data]   Package wordnet is already up-to-date!\n",
      "[nltk_data] Downloading package omw-1.4 to C:\\Users\\S H\n",
      "[nltk_data]     K\\AppData\\Roaming\\nltk_data...\n",
      "[nltk_data]   Package omw-1.4 is already up-to-date!\n",
      "[nltk_data] Downloading package punkt to C:\\Users\\S H\n",
      "[nltk_data]     K\\AppData\\Roaming\\nltk_data...\n",
      "[nltk_data]   Package punkt is already up-to-date!\n"
     ]
    },
    {
     "data": {
      "text/plain": [
       "True"
      ]
     },
     "execution_count": 3,
     "metadata": {},
     "output_type": "execute_result"
    }
   ],
   "source": [
    "import numpy as np\n",
    "import pandas as pd\n",
    "import seaborn as sns\n",
    "import matplotlib.pyplot as plt\n",
    "import re\n",
    "import string\n",
    "from spellchecker import SpellChecker\n",
    "import nltk\n",
    "from nltk.stem import WordNetLemmatizer\n",
    "from nltk.corpus import stopwords\n",
    "from gensim.models import Word2Vec\n",
    "from nltk.tokenize import word_tokenize\n",
    "from sklearn.preprocessing import MinMaxScaler\n",
    "from sklearn.model_selection import train_test_split\n",
    "from sklearn.naive_bayes import GaussianNB, BernoulliNB, CategoricalNB, MultinomialNB\n",
    "from sklearn.metrics import accuracy_score, classification_report\n",
    "from sklearn.model_selection import GridSearchCV\n",
    "from sklearn.feature_extraction.text import TfidfVectorizer\n",
    "import scipy.sparse as sp\n",
    "from sklearn.pipeline import Pipeline\n",
    "import joblib\n",
    "from sklearn.ensemble import RandomForestClassifier\n",
    "nltk.download(\"stopwords\")\n",
    "nltk.download(\"wordnet\")\n",
    "nltk.download(\"omw-1.4\")\n",
    "nltk.download('punkt')"
   ]
  },
  {
   "cell_type": "markdown",
   "id": "e8e5c70c-40ea-4ba2-9e35-ab5d212db237",
   "metadata": {},
   "source": [
    "# **Data Collection**"
   ]
  },
  {
   "cell_type": "code",
   "execution_count": 5,
   "id": "4a86821b-f362-4492-ba04-99a6736ce9aa",
   "metadata": {},
   "outputs": [],
   "source": [
    "email_dataset = pd.read_csv(\"spam_ham_dataset.csv\")"
   ]
  },
  {
   "cell_type": "code",
   "execution_count": 7,
   "id": "9882b261-1804-4c7c-ba4b-b87fa176a663",
   "metadata": {},
   "outputs": [
    {
     "data": {
      "text/html": [
       "<div>\n",
       "<style scoped>\n",
       "    .dataframe tbody tr th:only-of-type {\n",
       "        vertical-align: middle;\n",
       "    }\n",
       "\n",
       "    .dataframe tbody tr th {\n",
       "        vertical-align: top;\n",
       "    }\n",
       "\n",
       "    .dataframe thead th {\n",
       "        text-align: right;\n",
       "    }\n",
       "</style>\n",
       "<table border=\"1\" class=\"dataframe\">\n",
       "  <thead>\n",
       "    <tr style=\"text-align: right;\">\n",
       "      <th></th>\n",
       "      <th>Unnamed: 0</th>\n",
       "      <th>label</th>\n",
       "      <th>text</th>\n",
       "      <th>label_num</th>\n",
       "    </tr>\n",
       "  </thead>\n",
       "  <tbody>\n",
       "    <tr>\n",
       "      <th>0</th>\n",
       "      <td>605</td>\n",
       "      <td>ham</td>\n",
       "      <td>Subject: enron methanol ; meter # : 988291\\r\\n...</td>\n",
       "      <td>0</td>\n",
       "    </tr>\n",
       "    <tr>\n",
       "      <th>1</th>\n",
       "      <td>2349</td>\n",
       "      <td>ham</td>\n",
       "      <td>Subject: hpl nom for january 9 , 2001\\r\\n( see...</td>\n",
       "      <td>0</td>\n",
       "    </tr>\n",
       "    <tr>\n",
       "      <th>2</th>\n",
       "      <td>3624</td>\n",
       "      <td>ham</td>\n",
       "      <td>Subject: neon retreat\\r\\nho ho ho , we ' re ar...</td>\n",
       "      <td>0</td>\n",
       "    </tr>\n",
       "    <tr>\n",
       "      <th>3</th>\n",
       "      <td>4685</td>\n",
       "      <td>spam</td>\n",
       "      <td>Subject: photoshop , windows , office . cheap ...</td>\n",
       "      <td>1</td>\n",
       "    </tr>\n",
       "    <tr>\n",
       "      <th>4</th>\n",
       "      <td>2030</td>\n",
       "      <td>ham</td>\n",
       "      <td>Subject: re : indian springs\\r\\nthis deal is t...</td>\n",
       "      <td>0</td>\n",
       "    </tr>\n",
       "  </tbody>\n",
       "</table>\n",
       "</div>"
      ],
      "text/plain": [
       "   Unnamed: 0 label                                               text  \\\n",
       "0         605   ham  Subject: enron methanol ; meter # : 988291\\r\\n...   \n",
       "1        2349   ham  Subject: hpl nom for january 9 , 2001\\r\\n( see...   \n",
       "2        3624   ham  Subject: neon retreat\\r\\nho ho ho , we ' re ar...   \n",
       "3        4685  spam  Subject: photoshop , windows , office . cheap ...   \n",
       "4        2030   ham  Subject: re : indian springs\\r\\nthis deal is t...   \n",
       "\n",
       "   label_num  \n",
       "0          0  \n",
       "1          0  \n",
       "2          0  \n",
       "3          1  \n",
       "4          0  "
      ]
     },
     "execution_count": 7,
     "metadata": {},
     "output_type": "execute_result"
    }
   ],
   "source": [
    "email_dataset.head()"
   ]
  },
  {
   "cell_type": "code",
   "execution_count": 9,
   "id": "0e1cdadb-a4e8-4424-b1bc-1a187f8099ae",
   "metadata": {},
   "outputs": [],
   "source": [
    "email_dataset.drop(columns=[\"Unnamed: 0\", \"label\"], inplace=True)"
   ]
  },
  {
   "cell_type": "code",
   "execution_count": 11,
   "id": "13de0f07-ea46-40b1-9ecb-44192378e46c",
   "metadata": {},
   "outputs": [],
   "source": [
    "email_dataset.rename(columns={\"text\": \"Email\", \"label_num\": \"Spam\"}, inplace=True)"
   ]
  },
  {
   "cell_type": "code",
   "execution_count": 13,
   "id": "d64a8d9e-0255-48e8-b5b6-bb98be1e83ba",
   "metadata": {},
   "outputs": [
    {
     "data": {
      "text/html": [
       "<div>\n",
       "<style scoped>\n",
       "    .dataframe tbody tr th:only-of-type {\n",
       "        vertical-align: middle;\n",
       "    }\n",
       "\n",
       "    .dataframe tbody tr th {\n",
       "        vertical-align: top;\n",
       "    }\n",
       "\n",
       "    .dataframe thead th {\n",
       "        text-align: right;\n",
       "    }\n",
       "</style>\n",
       "<table border=\"1\" class=\"dataframe\">\n",
       "  <thead>\n",
       "    <tr style=\"text-align: right;\">\n",
       "      <th></th>\n",
       "      <th>Email</th>\n",
       "      <th>Spam</th>\n",
       "    </tr>\n",
       "  </thead>\n",
       "  <tbody>\n",
       "    <tr>\n",
       "      <th>0</th>\n",
       "      <td>Subject: enron methanol ; meter # : 988291\\r\\n...</td>\n",
       "      <td>0</td>\n",
       "    </tr>\n",
       "    <tr>\n",
       "      <th>1</th>\n",
       "      <td>Subject: hpl nom for january 9 , 2001\\r\\n( see...</td>\n",
       "      <td>0</td>\n",
       "    </tr>\n",
       "    <tr>\n",
       "      <th>2</th>\n",
       "      <td>Subject: neon retreat\\r\\nho ho ho , we ' re ar...</td>\n",
       "      <td>0</td>\n",
       "    </tr>\n",
       "    <tr>\n",
       "      <th>3</th>\n",
       "      <td>Subject: photoshop , windows , office . cheap ...</td>\n",
       "      <td>1</td>\n",
       "    </tr>\n",
       "    <tr>\n",
       "      <th>4</th>\n",
       "      <td>Subject: re : indian springs\\r\\nthis deal is t...</td>\n",
       "      <td>0</td>\n",
       "    </tr>\n",
       "  </tbody>\n",
       "</table>\n",
       "</div>"
      ],
      "text/plain": [
       "                                               Email  Spam\n",
       "0  Subject: enron methanol ; meter # : 988291\\r\\n...     0\n",
       "1  Subject: hpl nom for january 9 , 2001\\r\\n( see...     0\n",
       "2  Subject: neon retreat\\r\\nho ho ho , we ' re ar...     0\n",
       "3  Subject: photoshop , windows , office . cheap ...     1\n",
       "4  Subject: re : indian springs\\r\\nthis deal is t...     0"
      ]
     },
     "execution_count": 13,
     "metadata": {},
     "output_type": "execute_result"
    }
   ],
   "source": [
    "email_dataset.head()"
   ]
  },
  {
   "cell_type": "code",
   "execution_count": 15,
   "id": "ebec94a9-102f-47c6-a0cf-ff954a53a209",
   "metadata": {},
   "outputs": [
    {
     "data": {
      "text/html": [
       "<div>\n",
       "<style scoped>\n",
       "    .dataframe tbody tr th:only-of-type {\n",
       "        vertical-align: middle;\n",
       "    }\n",
       "\n",
       "    .dataframe tbody tr th {\n",
       "        vertical-align: top;\n",
       "    }\n",
       "\n",
       "    .dataframe thead th {\n",
       "        text-align: right;\n",
       "    }\n",
       "</style>\n",
       "<table border=\"1\" class=\"dataframe\">\n",
       "  <thead>\n",
       "    <tr style=\"text-align: right;\">\n",
       "      <th></th>\n",
       "      <th>Email</th>\n",
       "      <th>Spam</th>\n",
       "    </tr>\n",
       "  </thead>\n",
       "  <tbody>\n",
       "    <tr>\n",
       "      <th>0</th>\n",
       "      <td>Subject: enron methanol ; meter # : 988291\\r\\n...</td>\n",
       "      <td>0</td>\n",
       "    </tr>\n",
       "    <tr>\n",
       "      <th>1</th>\n",
       "      <td>Subject: hpl nom for january 9 , 2001\\r\\n( see...</td>\n",
       "      <td>0</td>\n",
       "    </tr>\n",
       "    <tr>\n",
       "      <th>2</th>\n",
       "      <td>Subject: neon retreat\\r\\nho ho ho , we ' re ar...</td>\n",
       "      <td>0</td>\n",
       "    </tr>\n",
       "    <tr>\n",
       "      <th>3</th>\n",
       "      <td>Subject: photoshop , windows , office . cheap ...</td>\n",
       "      <td>1</td>\n",
       "    </tr>\n",
       "    <tr>\n",
       "      <th>4</th>\n",
       "      <td>Subject: re : indian springs\\r\\nthis deal is t...</td>\n",
       "      <td>0</td>\n",
       "    </tr>\n",
       "  </tbody>\n",
       "</table>\n",
       "</div>"
      ],
      "text/plain": [
       "                                               Email  Spam\n",
       "0  Subject: enron methanol ; meter # : 988291\\r\\n...     0\n",
       "1  Subject: hpl nom for january 9 , 2001\\r\\n( see...     0\n",
       "2  Subject: neon retreat\\r\\nho ho ho , we ' re ar...     0\n",
       "3  Subject: photoshop , windows , office . cheap ...     1\n",
       "4  Subject: re : indian springs\\r\\nthis deal is t...     0"
      ]
     },
     "execution_count": 15,
     "metadata": {},
     "output_type": "execute_result"
    }
   ],
   "source": [
    "email_dataset.head()"
   ]
  },
  {
   "cell_type": "code",
   "execution_count": 17,
   "id": "9270c4bc-f66f-4d90-aa67-e65221cf1bfe",
   "metadata": {},
   "outputs": [
    {
     "data": {
      "text/plain": [
       "5171"
      ]
     },
     "execution_count": 17,
     "metadata": {},
     "output_type": "execute_result"
    }
   ],
   "source": [
    "len(email_dataset)"
   ]
  },
  {
   "cell_type": "code",
   "execution_count": 19,
   "id": "2d8e98b9-275a-47b5-ac0e-c2ed97f4bd38",
   "metadata": {},
   "outputs": [
    {
     "name": "stdout",
     "output_type": "stream",
     "text": [
      "<class 'pandas.core.frame.DataFrame'>\n",
      "RangeIndex: 5171 entries, 0 to 5170\n",
      "Data columns (total 2 columns):\n",
      " #   Column  Non-Null Count  Dtype \n",
      "---  ------  --------------  ----- \n",
      " 0   Email   5171 non-null   object\n",
      " 1   Spam    5171 non-null   int64 \n",
      "dtypes: int64(1), object(1)\n",
      "memory usage: 80.9+ KB\n"
     ]
    }
   ],
   "source": [
    "email_dataset.info()"
   ]
  },
  {
   "cell_type": "markdown",
   "id": "a50d1f27-11df-4bb0-9a52-c37c5a940c7b",
   "metadata": {},
   "source": [
    "# **Data Preprocessing**"
   ]
  },
  {
   "cell_type": "code",
   "execution_count": 22,
   "id": "f55363bf-88e4-401b-9526-1433d72baa7c",
   "metadata": {},
   "outputs": [],
   "source": [
    "spam_words = spam_keywords = [\n",
    "    \"100% more\", \"100% free\", \"100% satisfied\", \"Additional income\", \"Be your own boss\", \"Best price\",\n",
    "    \"Big bucks\", \"Billion\", \"Cash bonus\", \"Cents on the dollar\", \"Consolidate debt\", \"Double your cash\",\n",
    "    \"Double your income\", \"Earn extra cash\", \"Earn money\", \"Eliminate bad credit\", \"Extra cash\",\n",
    "    \"Extra income\", \"Expect to earn\", \"Fast cash\", \"Financial freedom\", \"Free access\", \"Free consultation\",\n",
    "    \"Free gift\", \"Free hosting\", \"Free info\", \"Free investment\", \"Free membership\", \"Free money\",\n",
    "    \"Free preview\", \"Free quote\", \"Free trial\", \"Full refund\", \"Get out of debt\", \"Get paid\", \"Giveaway\",\n",
    "    \"Guaranteed\", \"Increase sales\", \"Increase traffic\", \"Incredible deal\", \"Lower rates\", \"Lowest price\",\n",
    "    \"Make money\", \"Million dollars\", \"Miracle\", \"Money back\", \"Once in a lifetime\", \"One time\",\n",
    "    \"Pennies a day\", \"Potential earnings\", \"Prize\", \"Promise\", \"Pure profit\", \"Risk-free\",\n",
    "    \"Satisfaction guaranteed\", \"Save big money\", \"Save up to\", \"Special promotion\", \"Act now\", \"Apply now\",\n",
    "    \"Become a member\", \"Call now\", \"Click below\", \"Click here\", \"Get it now\", \"Do it today\", \"Don’t delete\",\n",
    "    \"Exclusive deal\", \"Get started now\", \"Important information regarding\", \"Information you requested\",\n",
    "    \"Instant\", \"Limited time\", \"New customers only\", \"Order now\", \"Please read\", \"See for yourself\",\n",
    "    \"Sign up free\", \"Take action\", \"This won’t last\", \"Urgent\", \"What are you waiting for?\",\n",
    "    \"While supplies last\", \"Will not believe your eyes\", \"Winner\", \"Winning\", \"You are a winner\",\n",
    "    \"You have been selected\", \"Bulk email\", \"Buy direct\", \"Cancel at any time\", \"Check or money order\",\n",
    "    \"Congratulations\", \"Confidentiality\", \"Cures\", \"Dear friend\", \"Direct email\", \"Direct marketing\",\n",
    "    \"Hidden charges\", \"Human growth hormone\", \"Internet marketing\", \"Lose weight\", \"Mass email\",\n",
    "    \"Meet singles\", \"Multi-level marketing\", \"No catch\", \"No cost\", \"No credit check\", \"No fees\",\n",
    "    \"No gimmick\", \"No hidden costs\", \"No hidden fees\", \"No interest\", \"No investment\", \"No obligation\",\n",
    "    \"No purchase necessary\", \"No questions asked\", \"No strings attached\", \"Not junk\", \"Notspam\",\n",
    "    \"Obligation\", \"Passwords\", \"Requires initial investment\", \"Social security number\",\n",
    "    \"This isn’t a scam\", \"This isn’t junk\", \"This isn’t spam\", \"Undisclosed\", \"Unsecured credit\",\n",
    "    \"Unsecured debt\", \"Unsolicited\", \"Valium\", \"Viagra\", \"Vicodin\", \"We hate spam\", \"Weight loss\", \"Xanax\",\n",
    "    \"Accept credit cards\", \"Ad\", \"All new\", \"As seen on\", \"Bargain\", \"Beneficiary\", \"Billing\", \"Bonus\",\n",
    "    \"Cards accepted\", \"Cash\", \"Certified\", \"Cheap\", \"Claims\", \"Clearance\", \"Compare rates\",\n",
    "    \"Credit card offers\", \"Deal\", \"Debt\", \"Discount\", \"Fantastic\", \"In accordance with laws\", \"Income\",\n",
    "    \"Investment\", \"Join millions\", \"Lifetime\", \"Loans\", \"Luxury\", \"Marketing solution\",\n",
    "    \"Message contains\", \"Mortgage rates\", \"Name brand\", \"Offer\", \"Online marketing\", \"Opt in\",\n",
    "    \"Pre-approved\", \"Quote\", \"Rates\", \"Refinance\", \"Removal\", \"Reserves the right\", \"Score\",\n",
    "    \"Search engine\", \"Sent in compliance\", \"Subject to…\", \"Terms and conditions\", \"Trial\", \"Unlimited\",\n",
    "    \"Warranty\", \"Web traffic\", \"Work from home\"\n",
    "]\n"
   ]
  },
  {
   "cell_type": "code",
   "execution_count": 24,
   "id": "63246966-0fda-4c1e-8c0f-3acb6886ba88",
   "metadata": {},
   "outputs": [],
   "source": [
    "for i in range(len(spam_words)):\n",
    "    spam_words[i] = spam_words[i].lower()"
   ]
  },
  {
   "cell_type": "code",
   "execution_count": 26,
   "id": "2b785882-ac9a-49d3-a2b1-339f0050ff5f",
   "metadata": {},
   "outputs": [],
   "source": [
    "email_dataset[\"Email\"] = email_dataset[\"Email\"].str.lower()"
   ]
  },
  {
   "cell_type": "code",
   "execution_count": 28,
   "id": "a86f6e8b-4c89-4835-9b56-3baa3e6721ba",
   "metadata": {},
   "outputs": [],
   "source": [
    "email_dataset[\"URL\"] = email_dataset[\"Email\"].str.contains(r'https?://\\S+|www\\.\\S+|\\S+\\.\\S+\\.\\S+', regex=True, na=False).astype(int)"
   ]
  },
  {
   "cell_type": "code",
   "execution_count": 29,
   "id": "e543e94f-8cf5-4d21-a9db-9b1cf40a7361",
   "metadata": {},
   "outputs": [
    {
     "data": {
      "text/plain": [
       "URL\n",
       "0    5171\n",
       "Name: count, dtype: int64"
      ]
     },
     "execution_count": 29,
     "metadata": {},
     "output_type": "execute_result"
    }
   ],
   "source": [
    "email_dataset[\"URL\"].value_counts()"
   ]
  },
  {
   "cell_type": "code",
   "execution_count": 30,
   "id": "b35c84a1-1e7c-4f1e-b073-ba448337736e",
   "metadata": {},
   "outputs": [],
   "source": [
    "special_chars = [\"\\t\", \"\\n\", \"\\r\", \"\\v\", \"\\f\", \"\\\\\", \"\\'\", \"\\\"\", \"\\a\", \"\\b\", \"\\e\"]"
   ]
  },
  {
   "cell_type": "code",
   "execution_count": 31,
   "id": "834000e1-ba0c-4e58-befd-867a2f8e853b",
   "metadata": {},
   "outputs": [],
   "source": [
    "def remove_special_characters(email_msg):\n",
    "    email_msg = ''.join(ch if (ch not in special_chars and ch not in string.punctuation) else ' ' for ch in email_msg)\n",
    "    return ' '.join(email_msg.split())\n",
    "    "
   ]
  },
  {
   "cell_type": "code",
   "execution_count": 36,
   "id": "56f0419e-27b6-4ff7-9937-e9d21b058fe8",
   "metadata": {},
   "outputs": [],
   "source": [
    "email_dataset[\"Email\"] = email_dataset[\"Email\"].apply(remove_special_characters)"
   ]
  },
  {
   "cell_type": "code",
   "execution_count": 37,
   "id": "93dfd164-8166-4d8a-a3ba-9f33c8d4afa3",
   "metadata": {},
   "outputs": [],
   "source": [
    "def remove_hyperlinks(email_msg):\n",
    "    url_pattern = r'https?://\\S+|www\\.\\S+|\\S+\\.\\S+\\.\\S+'\n",
    "    clean_text = re.sub(url_pattern, '', email_msg)\n",
    "    return ' '.join(clean_text.split())"
   ]
  },
  {
   "cell_type": "code",
   "execution_count": 38,
   "id": "58c929c3-87fd-44bc-8a53-dcb6833e7e92",
   "metadata": {},
   "outputs": [],
   "source": [
    "email_dataset[\"Email\"] = email_dataset[\"Email\"].apply(remove_hyperlinks)"
   ]
  },
  {
   "cell_type": "code",
   "execution_count": 39,
   "id": "b5de026c-6e16-4dbd-9c5b-62a70a4f9fcb",
   "metadata": {},
   "outputs": [],
   "source": [
    "spell = SpellChecker()"
   ]
  },
  {
   "cell_type": "code",
   "execution_count": 40,
   "id": "167d940a-1f30-4ca1-99f5-b840366ef489",
   "metadata": {},
   "outputs": [],
   "source": [
    "spell.word_frequency.load_text_file(\"english_dictionary.txt\")"
   ]
  },
  {
   "cell_type": "code",
   "execution_count": 41,
   "id": "4ad1c486-a25c-49be-b446-79e205f0f04a",
   "metadata": {},
   "outputs": [],
   "source": [
    "def count_spelling_mistakes(email_msg):\n",
    "    words = email_msg.split()\n",
    "    mistakes = spell.unknown(words)\n",
    "    return len(mistakes)\n"
   ]
  },
  {
   "cell_type": "code",
   "execution_count": 42,
   "id": "f9ae9a98-6988-44e9-baef-8055a66b7dba",
   "metadata": {},
   "outputs": [],
   "source": [
    "email_dataset[\"Spelling Mistake\"] = email_dataset[\"Email\"].apply(count_spelling_mistakes)"
   ]
  },
  {
   "cell_type": "code",
   "execution_count": 43,
   "id": "89409d2e-7cb5-4966-a05b-d2a284054781",
   "metadata": {},
   "outputs": [
    {
     "data": {
      "text/html": [
       "<div>\n",
       "<style scoped>\n",
       "    .dataframe tbody tr th:only-of-type {\n",
       "        vertical-align: middle;\n",
       "    }\n",
       "\n",
       "    .dataframe tbody tr th {\n",
       "        vertical-align: top;\n",
       "    }\n",
       "\n",
       "    .dataframe thead th {\n",
       "        text-align: right;\n",
       "    }\n",
       "</style>\n",
       "<table border=\"1\" class=\"dataframe\">\n",
       "  <thead>\n",
       "    <tr style=\"text-align: right;\">\n",
       "      <th></th>\n",
       "      <th>Email</th>\n",
       "      <th>Spam</th>\n",
       "      <th>URL</th>\n",
       "      <th>Spelling Mistake</th>\n",
       "    </tr>\n",
       "  </thead>\n",
       "  <tbody>\n",
       "    <tr>\n",
       "      <th>0</th>\n",
       "      <td>subject enron methanol meter 988291 this is a ...</td>\n",
       "      <td>0</td>\n",
       "      <td>0</td>\n",
       "      <td>0</td>\n",
       "    </tr>\n",
       "    <tr>\n",
       "      <th>1</th>\n",
       "      <td>subject hpl nom for january 9 2001 see attache...</td>\n",
       "      <td>0</td>\n",
       "      <td>0</td>\n",
       "      <td>2</td>\n",
       "    </tr>\n",
       "    <tr>\n",
       "      <th>2</th>\n",
       "      <td>subject neon retreat ho ho ho we re around to ...</td>\n",
       "      <td>0</td>\n",
       "      <td>0</td>\n",
       "      <td>4</td>\n",
       "    </tr>\n",
       "    <tr>\n",
       "      <th>3</th>\n",
       "      <td>subject photoshop windows office cheap main tr...</td>\n",
       "      <td>1</td>\n",
       "      <td>0</td>\n",
       "      <td>6</td>\n",
       "    </tr>\n",
       "    <tr>\n",
       "      <th>4</th>\n",
       "      <td>subject re indian springs this deal is to book...</td>\n",
       "      <td>0</td>\n",
       "      <td>0</td>\n",
       "      <td>3</td>\n",
       "    </tr>\n",
       "  </tbody>\n",
       "</table>\n",
       "</div>"
      ],
      "text/plain": [
       "                                               Email  Spam  URL  \\\n",
       "0  subject enron methanol meter 988291 this is a ...     0    0   \n",
       "1  subject hpl nom for january 9 2001 see attache...     0    0   \n",
       "2  subject neon retreat ho ho ho we re around to ...     0    0   \n",
       "3  subject photoshop windows office cheap main tr...     1    0   \n",
       "4  subject re indian springs this deal is to book...     0    0   \n",
       "\n",
       "   Spelling Mistake  \n",
       "0                 0  \n",
       "1                 2  \n",
       "2                 4  \n",
       "3                 6  \n",
       "4                 3  "
      ]
     },
     "execution_count": 43,
     "metadata": {},
     "output_type": "execute_result"
    }
   ],
   "source": [
    "email_dataset.head()"
   ]
  },
  {
   "cell_type": "code",
   "execution_count": 46,
   "id": "abb93f55-e3e4-48e5-b25e-64862789763a",
   "metadata": {},
   "outputs": [],
   "source": [
    "def count_spam_words(email_msg):\n",
    "    count = sum(1 for word in spam_words if re.search(rf\"\\b{re.escape(word)}\\b\", email_msg))\n",
    "    return count"
   ]
  },
  {
   "cell_type": "code",
   "execution_count": 47,
   "id": "6d5e16d7-b137-4f03-b606-77eba6c20480",
   "metadata": {},
   "outputs": [],
   "source": [
    "email_dataset[\"Spam Words\"] = email_dataset[\"Email\"].apply(count_spam_words)"
   ]
  },
  {
   "cell_type": "code",
   "execution_count": 50,
   "id": "260de2e7-8609-4b03-a6c6-d3d0e391e9e6",
   "metadata": {},
   "outputs": [
    {
     "data": {
      "text/html": [
       "<div>\n",
       "<style scoped>\n",
       "    .dataframe tbody tr th:only-of-type {\n",
       "        vertical-align: middle;\n",
       "    }\n",
       "\n",
       "    .dataframe tbody tr th {\n",
       "        vertical-align: top;\n",
       "    }\n",
       "\n",
       "    .dataframe thead th {\n",
       "        text-align: right;\n",
       "    }\n",
       "</style>\n",
       "<table border=\"1\" class=\"dataframe\">\n",
       "  <thead>\n",
       "    <tr style=\"text-align: right;\">\n",
       "      <th></th>\n",
       "      <th>Email</th>\n",
       "      <th>Spam</th>\n",
       "      <th>URL</th>\n",
       "      <th>Spelling Mistake</th>\n",
       "      <th>Spam Words</th>\n",
       "    </tr>\n",
       "  </thead>\n",
       "  <tbody>\n",
       "    <tr>\n",
       "      <th>0</th>\n",
       "      <td>subject enron methanol meter 988291 this is a ...</td>\n",
       "      <td>0</td>\n",
       "      <td>0</td>\n",
       "      <td>0</td>\n",
       "      <td>0</td>\n",
       "    </tr>\n",
       "    <tr>\n",
       "      <th>1</th>\n",
       "      <td>subject hpl nom for january 9 2001 see attache...</td>\n",
       "      <td>0</td>\n",
       "      <td>0</td>\n",
       "      <td>2</td>\n",
       "      <td>0</td>\n",
       "    </tr>\n",
       "    <tr>\n",
       "      <th>2</th>\n",
       "      <td>subject neon retreat ho ho ho we re around to ...</td>\n",
       "      <td>0</td>\n",
       "      <td>0</td>\n",
       "      <td>4</td>\n",
       "      <td>0</td>\n",
       "    </tr>\n",
       "    <tr>\n",
       "      <th>3</th>\n",
       "      <td>subject photoshop windows office cheap main tr...</td>\n",
       "      <td>1</td>\n",
       "      <td>0</td>\n",
       "      <td>6</td>\n",
       "      <td>1</td>\n",
       "    </tr>\n",
       "    <tr>\n",
       "      <th>4</th>\n",
       "      <td>subject re indian springs this deal is to book...</td>\n",
       "      <td>0</td>\n",
       "      <td>0</td>\n",
       "      <td>3</td>\n",
       "      <td>1</td>\n",
       "    </tr>\n",
       "  </tbody>\n",
       "</table>\n",
       "</div>"
      ],
      "text/plain": [
       "                                               Email  Spam  URL  \\\n",
       "0  subject enron methanol meter 988291 this is a ...     0    0   \n",
       "1  subject hpl nom for january 9 2001 see attache...     0    0   \n",
       "2  subject neon retreat ho ho ho we re around to ...     0    0   \n",
       "3  subject photoshop windows office cheap main tr...     1    0   \n",
       "4  subject re indian springs this deal is to book...     0    0   \n",
       "\n",
       "   Spelling Mistake  Spam Words  \n",
       "0                 0           0  \n",
       "1                 2           0  \n",
       "2                 4           0  \n",
       "3                 6           1  \n",
       "4                 3           1  "
      ]
     },
     "execution_count": 50,
     "metadata": {},
     "output_type": "execute_result"
    }
   ],
   "source": [
    "email_dataset.head()"
   ]
  },
  {
   "cell_type": "code",
   "execution_count": 53,
   "id": "83d4d9cb-df13-448a-9655-56aff22fa30a",
   "metadata": {},
   "outputs": [],
   "source": [
    "lemmatizer = WordNetLemmatizer()\n",
    "\n",
    "def lemmatize_text(email_msg):\n",
    "    if isinstance(email_msg, str):\n",
    "        return \" \".join([lemmatizer.lemmatize(word) for word in email_msg.split()])\n",
    "    return text"
   ]
  },
  {
   "cell_type": "code",
   "execution_count": 54,
   "id": "63813568-52db-4b46-b9dd-58937b6d24ab",
   "metadata": {},
   "outputs": [],
   "source": [
    "email_dataset[\"Email\"] = email_dataset[\"Email\"].apply(lemmatize_text)"
   ]
  },
  {
   "cell_type": "code",
   "execution_count": 58,
   "id": "3ad9e6b3-b57d-4242-b10b-0c0b566c864a",
   "metadata": {},
   "outputs": [
    {
     "data": {
      "text/html": [
       "<div>\n",
       "<style scoped>\n",
       "    .dataframe tbody tr th:only-of-type {\n",
       "        vertical-align: middle;\n",
       "    }\n",
       "\n",
       "    .dataframe tbody tr th {\n",
       "        vertical-align: top;\n",
       "    }\n",
       "\n",
       "    .dataframe thead th {\n",
       "        text-align: right;\n",
       "    }\n",
       "</style>\n",
       "<table border=\"1\" class=\"dataframe\">\n",
       "  <thead>\n",
       "    <tr style=\"text-align: right;\">\n",
       "      <th></th>\n",
       "      <th>Email</th>\n",
       "      <th>Spam</th>\n",
       "      <th>URL</th>\n",
       "      <th>Spelling Mistake</th>\n",
       "      <th>Spam Words</th>\n",
       "    </tr>\n",
       "  </thead>\n",
       "  <tbody>\n",
       "    <tr>\n",
       "      <th>0</th>\n",
       "      <td>subject enron methanol meter 988291 this is a ...</td>\n",
       "      <td>0</td>\n",
       "      <td>0</td>\n",
       "      <td>0</td>\n",
       "      <td>0</td>\n",
       "    </tr>\n",
       "    <tr>\n",
       "      <th>1</th>\n",
       "      <td>subject hpl nom for january 9 2001 see attache...</td>\n",
       "      <td>0</td>\n",
       "      <td>0</td>\n",
       "      <td>2</td>\n",
       "      <td>0</td>\n",
       "    </tr>\n",
       "    <tr>\n",
       "      <th>2</th>\n",
       "      <td>subject neon retreat ho ho ho we re around to ...</td>\n",
       "      <td>0</td>\n",
       "      <td>0</td>\n",
       "      <td>4</td>\n",
       "      <td>0</td>\n",
       "    </tr>\n",
       "    <tr>\n",
       "      <th>3</th>\n",
       "      <td>subject photoshop window office cheap main tre...</td>\n",
       "      <td>1</td>\n",
       "      <td>0</td>\n",
       "      <td>6</td>\n",
       "      <td>1</td>\n",
       "    </tr>\n",
       "    <tr>\n",
       "      <th>4</th>\n",
       "      <td>subject re indian spring this deal is to book ...</td>\n",
       "      <td>0</td>\n",
       "      <td>0</td>\n",
       "      <td>3</td>\n",
       "      <td>1</td>\n",
       "    </tr>\n",
       "  </tbody>\n",
       "</table>\n",
       "</div>"
      ],
      "text/plain": [
       "                                               Email  Spam  URL  \\\n",
       "0  subject enron methanol meter 988291 this is a ...     0    0   \n",
       "1  subject hpl nom for january 9 2001 see attache...     0    0   \n",
       "2  subject neon retreat ho ho ho we re around to ...     0    0   \n",
       "3  subject photoshop window office cheap main tre...     1    0   \n",
       "4  subject re indian spring this deal is to book ...     0    0   \n",
       "\n",
       "   Spelling Mistake  Spam Words  \n",
       "0                 0           0  \n",
       "1                 2           0  \n",
       "2                 4           0  \n",
       "3                 6           1  \n",
       "4                 3           1  "
      ]
     },
     "execution_count": 58,
     "metadata": {},
     "output_type": "execute_result"
    }
   ],
   "source": [
    "email_dataset.head()"
   ]
  },
  {
   "cell_type": "code",
   "execution_count": 59,
   "id": "86a265c0-4aad-4770-856d-0d034c516e86",
   "metadata": {},
   "outputs": [],
   "source": [
    "stop_words = set(stopwords.words(\"english\"))\n",
    "\n",
    "def remove_stopwords(email_msg):\n",
    "    if isinstance(email_msg, str):\n",
    "        return \" \".join([word for word in email_msg.split() if word not in stop_words])\n",
    "    return text"
   ]
  },
  {
   "cell_type": "code",
   "execution_count": 60,
   "id": "9c48a2a9-e285-43e0-8bda-ef53a80a662b",
   "metadata": {},
   "outputs": [],
   "source": [
    "email_dataset[\"Email\"] = email_dataset[\"Email\"].apply(remove_stopwords)"
   ]
  },
  {
   "cell_type": "markdown",
   "id": "cf6c188f-c5f9-48d2-9af7-9b64d48240d8",
   "metadata": {},
   "source": [
    "# **Model Training and Evaluation**"
   ]
  },
  {
   "cell_type": "code",
   "execution_count": 69,
   "id": "2431a2d0-7741-453c-b1d3-bfbd495eb690",
   "metadata": {},
   "outputs": [],
   "source": [
    "email_dataset[\"Tokenized_Email\"] = email_dataset[\"Email\"].apply(word_tokenize)"
   ]
  },
  {
   "cell_type": "code",
   "execution_count": 70,
   "id": "fa482ca1-a352-4ffc-8036-48e2f30273e9",
   "metadata": {},
   "outputs": [
    {
     "data": {
      "text/html": [
       "<div>\n",
       "<style scoped>\n",
       "    .dataframe tbody tr th:only-of-type {\n",
       "        vertical-align: middle;\n",
       "    }\n",
       "\n",
       "    .dataframe tbody tr th {\n",
       "        vertical-align: top;\n",
       "    }\n",
       "\n",
       "    .dataframe thead th {\n",
       "        text-align: right;\n",
       "    }\n",
       "</style>\n",
       "<table border=\"1\" class=\"dataframe\">\n",
       "  <thead>\n",
       "    <tr style=\"text-align: right;\">\n",
       "      <th></th>\n",
       "      <th>Email</th>\n",
       "      <th>Spam</th>\n",
       "      <th>URL</th>\n",
       "      <th>Spelling Mistake</th>\n",
       "      <th>Spam Words</th>\n",
       "      <th>Tokenized_Email</th>\n",
       "    </tr>\n",
       "  </thead>\n",
       "  <tbody>\n",
       "    <tr>\n",
       "      <th>0</th>\n",
       "      <td>subject enron methanol meter 988291 follow not...</td>\n",
       "      <td>0</td>\n",
       "      <td>0</td>\n",
       "      <td>0</td>\n",
       "      <td>0</td>\n",
       "      <td>[subject, enron, methanol, meter, 988291, foll...</td>\n",
       "    </tr>\n",
       "    <tr>\n",
       "      <th>1</th>\n",
       "      <td>subject hpl nom january 9 2001 see attached fi...</td>\n",
       "      <td>0</td>\n",
       "      <td>0</td>\n",
       "      <td>2</td>\n",
       "      <td>0</td>\n",
       "      <td>[subject, hpl, nom, january, 9, 2001, see, att...</td>\n",
       "    </tr>\n",
       "    <tr>\n",
       "      <th>2</th>\n",
       "      <td>subject neon retreat ho ho ho around wonderful...</td>\n",
       "      <td>0</td>\n",
       "      <td>0</td>\n",
       "      <td>4</td>\n",
       "      <td>0</td>\n",
       "      <td>[subject, neon, retreat, ho, ho, ho, around, w...</td>\n",
       "    </tr>\n",
       "    <tr>\n",
       "      <th>3</th>\n",
       "      <td>subject photoshop window office cheap main tre...</td>\n",
       "      <td>1</td>\n",
       "      <td>0</td>\n",
       "      <td>6</td>\n",
       "      <td>1</td>\n",
       "      <td>[subject, photoshop, window, office, cheap, ma...</td>\n",
       "    </tr>\n",
       "    <tr>\n",
       "      <th>4</th>\n",
       "      <td>subject indian spring deal book teco pvr reven...</td>\n",
       "      <td>0</td>\n",
       "      <td>0</td>\n",
       "      <td>3</td>\n",
       "      <td>1</td>\n",
       "      <td>[subject, indian, spring, deal, book, teco, pv...</td>\n",
       "    </tr>\n",
       "  </tbody>\n",
       "</table>\n",
       "</div>"
      ],
      "text/plain": [
       "                                               Email  Spam  URL  \\\n",
       "0  subject enron methanol meter 988291 follow not...     0    0   \n",
       "1  subject hpl nom january 9 2001 see attached fi...     0    0   \n",
       "2  subject neon retreat ho ho ho around wonderful...     0    0   \n",
       "3  subject photoshop window office cheap main tre...     1    0   \n",
       "4  subject indian spring deal book teco pvr reven...     0    0   \n",
       "\n",
       "   Spelling Mistake  Spam Words  \\\n",
       "0                 0           0   \n",
       "1                 2           0   \n",
       "2                 4           0   \n",
       "3                 6           1   \n",
       "4                 3           1   \n",
       "\n",
       "                                     Tokenized_Email  \n",
       "0  [subject, enron, methanol, meter, 988291, foll...  \n",
       "1  [subject, hpl, nom, january, 9, 2001, see, att...  \n",
       "2  [subject, neon, retreat, ho, ho, ho, around, w...  \n",
       "3  [subject, photoshop, window, office, cheap, ma...  \n",
       "4  [subject, indian, spring, deal, book, teco, pv...  "
      ]
     },
     "execution_count": 70,
     "metadata": {},
     "output_type": "execute_result"
    }
   ],
   "source": [
    "email_dataset.head()"
   ]
  },
  {
   "cell_type": "code",
   "execution_count": 71,
   "id": "186f9be4-b810-4f1a-930b-6c3865d67f5b",
   "metadata": {},
   "outputs": [],
   "source": [
    "w2v_model = Word2Vec(sentences=email_dataset[\"Tokenized_Email\"], vector_size=300, window=5, min_count=2, workers=4)"
   ]
  },
  {
   "cell_type": "code",
   "execution_count": 72,
   "id": "58a37621-ddc3-41d5-9bd8-76027ab9b3d4",
   "metadata": {},
   "outputs": [],
   "source": [
    "word_vectors = w2v_model.wv"
   ]
  },
  {
   "cell_type": "code",
   "execution_count": 73,
   "id": "d2ab1e12-b1ac-4d46-af44-a8c729adadb6",
   "metadata": {},
   "outputs": [],
   "source": [
    "def get_email_vector(email_msg):\n",
    "    words = word_tokenize(email_msg)\n",
    "    word_vecs = [word_vectors[word] for word in words if word in word_vectors]\n",
    "    return np.mean(word_vecs, axis=0) if word_vecs else np.zeros(100)"
   ]
  },
  {
   "cell_type": "code",
   "execution_count": 74,
   "id": "6c3f01d0-212a-4a3b-8ce6-fa0fc2886662",
   "metadata": {},
   "outputs": [],
   "source": [
    "email_dataset[\"Email_Vector\"] = email_dataset[\"Email\"].apply(get_email_vector)"
   ]
  },
  {
   "cell_type": "code",
   "execution_count": 75,
   "id": "398b5d97-d7dc-4eb0-8d0a-3b9fa6d347cc",
   "metadata": {},
   "outputs": [
    {
     "data": {
      "text/html": [
       "<div>\n",
       "<style scoped>\n",
       "    .dataframe tbody tr th:only-of-type {\n",
       "        vertical-align: middle;\n",
       "    }\n",
       "\n",
       "    .dataframe tbody tr th {\n",
       "        vertical-align: top;\n",
       "    }\n",
       "\n",
       "    .dataframe thead th {\n",
       "        text-align: right;\n",
       "    }\n",
       "</style>\n",
       "<table border=\"1\" class=\"dataframe\">\n",
       "  <thead>\n",
       "    <tr style=\"text-align: right;\">\n",
       "      <th></th>\n",
       "      <th>Email</th>\n",
       "      <th>Spam</th>\n",
       "      <th>URL</th>\n",
       "      <th>Spelling Mistake</th>\n",
       "      <th>Spam Words</th>\n",
       "      <th>Tokenized_Email</th>\n",
       "      <th>Email_Vector</th>\n",
       "    </tr>\n",
       "  </thead>\n",
       "  <tbody>\n",
       "    <tr>\n",
       "      <th>0</th>\n",
       "      <td>subject enron methanol meter 988291 follow not...</td>\n",
       "      <td>0</td>\n",
       "      <td>0</td>\n",
       "      <td>0</td>\n",
       "      <td>0</td>\n",
       "      <td>[subject, enron, methanol, meter, 988291, foll...</td>\n",
       "      <td>[0.009583299, 0.31352717, -0.39792824, -0.1951...</td>\n",
       "    </tr>\n",
       "    <tr>\n",
       "      <th>1</th>\n",
       "      <td>subject hpl nom january 9 2001 see attached fi...</td>\n",
       "      <td>0</td>\n",
       "      <td>0</td>\n",
       "      <td>2</td>\n",
       "      <td>0</td>\n",
       "      <td>[subject, hpl, nom, january, 9, 2001, see, att...</td>\n",
       "      <td>[-0.44266564, 0.4444116, -0.32168856, 0.405939...</td>\n",
       "    </tr>\n",
       "    <tr>\n",
       "      <th>2</th>\n",
       "      <td>subject neon retreat ho ho ho around wonderful...</td>\n",
       "      <td>0</td>\n",
       "      <td>0</td>\n",
       "      <td>4</td>\n",
       "      <td>0</td>\n",
       "      <td>[subject, neon, retreat, ho, ho, ho, around, w...</td>\n",
       "      <td>[-0.09661402, 0.20648262, -0.02235691, -0.0803...</td>\n",
       "    </tr>\n",
       "    <tr>\n",
       "      <th>3</th>\n",
       "      <td>subject photoshop window office cheap main tre...</td>\n",
       "      <td>1</td>\n",
       "      <td>0</td>\n",
       "      <td>6</td>\n",
       "      <td>1</td>\n",
       "      <td>[subject, photoshop, window, office, cheap, ma...</td>\n",
       "      <td>[0.019383883, 0.060368568, 0.053865988, 0.0294...</td>\n",
       "    </tr>\n",
       "    <tr>\n",
       "      <th>4</th>\n",
       "      <td>subject indian spring deal book teco pvr reven...</td>\n",
       "      <td>0</td>\n",
       "      <td>0</td>\n",
       "      <td>3</td>\n",
       "      <td>1</td>\n",
       "      <td>[subject, indian, spring, deal, book, teco, pv...</td>\n",
       "      <td>[-0.033463363, 0.2360083, -0.2184775, -0.17886...</td>\n",
       "    </tr>\n",
       "  </tbody>\n",
       "</table>\n",
       "</div>"
      ],
      "text/plain": [
       "                                               Email  Spam  URL  \\\n",
       "0  subject enron methanol meter 988291 follow not...     0    0   \n",
       "1  subject hpl nom january 9 2001 see attached fi...     0    0   \n",
       "2  subject neon retreat ho ho ho around wonderful...     0    0   \n",
       "3  subject photoshop window office cheap main tre...     1    0   \n",
       "4  subject indian spring deal book teco pvr reven...     0    0   \n",
       "\n",
       "   Spelling Mistake  Spam Words  \\\n",
       "0                 0           0   \n",
       "1                 2           0   \n",
       "2                 4           0   \n",
       "3                 6           1   \n",
       "4                 3           1   \n",
       "\n",
       "                                     Tokenized_Email  \\\n",
       "0  [subject, enron, methanol, meter, 988291, foll...   \n",
       "1  [subject, hpl, nom, january, 9, 2001, see, att...   \n",
       "2  [subject, neon, retreat, ho, ho, ho, around, w...   \n",
       "3  [subject, photoshop, window, office, cheap, ma...   \n",
       "4  [subject, indian, spring, deal, book, teco, pv...   \n",
       "\n",
       "                                        Email_Vector  \n",
       "0  [0.009583299, 0.31352717, -0.39792824, -0.1951...  \n",
       "1  [-0.44266564, 0.4444116, -0.32168856, 0.405939...  \n",
       "2  [-0.09661402, 0.20648262, -0.02235691, -0.0803...  \n",
       "3  [0.019383883, 0.060368568, 0.053865988, 0.0294...  \n",
       "4  [-0.033463363, 0.2360083, -0.2184775, -0.17886...  "
      ]
     },
     "execution_count": 75,
     "metadata": {},
     "output_type": "execute_result"
    }
   ],
   "source": [
    "email_dataset.head()"
   ]
  },
  {
   "cell_type": "code",
   "execution_count": 76,
   "id": "dba9f124-6586-4e25-a33e-470d07d927e9",
   "metadata": {},
   "outputs": [
    {
     "data": {
      "text/plain": [
       "array([ 0.0095833 ,  0.31352717, -0.39792824, -0.19511938,  0.41276166,\n",
       "       -0.2889797 ,  0.33318615,  0.7951047 ,  0.3319862 , -0.1555453 ,\n",
       "        0.18518488, -0.30883843,  0.18163106, -0.17324704, -0.2549048 ,\n",
       "       -0.08500267,  0.09471945, -0.09840708, -0.07034989, -0.03501974,\n",
       "       -0.1373469 , -0.34116346, -0.1381763 , -0.12146737,  0.38180113,\n",
       "       -0.14877991, -0.19221927, -0.13339092, -0.18081123, -0.11899041,\n",
       "        0.38627544, -0.24100685,  0.09287103, -0.14252694,  0.19600525,\n",
       "        0.02888428,  0.00136885,  0.02733692,  0.0775645 ,  0.04176567,\n",
       "       -0.11778327, -0.04574978,  0.01549056, -0.14071207,  0.36981505,\n",
       "        0.29220247,  0.4059696 ,  0.3130415 ,  0.36824062,  0.54591274,\n",
       "        0.38639328,  0.09322078, -0.14190361,  0.1330455 , -0.03950164,\n",
       "        0.62007064, -0.17392385,  0.33887017,  0.1916046 , -0.08643954,\n",
       "        0.17757772, -0.06928024, -0.1862529 ,  0.36438325, -0.01786491,\n",
       "        0.1004214 ,  0.14148478,  0.11025131, -0.30563518,  0.02256049,\n",
       "        0.13480113, -0.00566317,  0.37699407,  0.0661595 , -0.28186473,\n",
       "        0.19764721, -0.41502014,  0.04983389, -0.09259757,  0.41425774,\n",
       "       -0.02315269, -0.443305  ,  0.10792258,  0.38150892,  0.2680191 ,\n",
       "       -0.07794979, -0.27100584, -0.13515803,  0.24352081,  0.03913569,\n",
       "        0.42350566, -0.3970029 ,  0.36693138,  0.0532303 ,  0.30311683,\n",
       "       -0.07370792,  0.4550779 , -0.48040614, -0.30579016, -0.11803111,\n",
       "        0.03917886,  0.0525368 ,  0.0151868 , -0.03344018, -0.02689291,\n",
       "       -0.36281958, -0.02328585, -0.21933442, -0.6604687 , -0.20395064,\n",
       "       -0.21133643,  0.3173558 ,  0.21106818,  0.18182835,  0.10047428,\n",
       "        0.17617866,  0.31838074, -0.07226581,  0.36008948, -0.29313117,\n",
       "        0.0968268 ,  0.19589274,  0.05295386, -0.04627695, -0.10321685,\n",
       "        0.05098895,  0.21018532, -0.5765278 ,  0.24720484,  0.03783594,\n",
       "       -0.16565756,  0.60950726,  0.04362617, -0.10493887,  0.22520587,\n",
       "        0.50639045, -0.56638175, -0.74272525, -0.36502802, -0.58034265,\n",
       "       -0.02015766, -0.24607863,  0.46475542,  0.21130612,  0.15831676,\n",
       "       -0.23519996, -0.16318162, -0.14456718, -0.1889891 , -0.28512064,\n",
       "        0.0847554 , -0.4803561 , -0.24227063, -0.50597554,  0.00846283,\n",
       "       -0.290832  , -0.36707062, -0.06798756, -0.03971205,  0.21654838,\n",
       "        0.03208883,  0.12327025, -0.38211626,  0.4456809 , -0.17652008,\n",
       "       -0.13230413,  0.03825901,  0.02614596, -0.14572266,  0.5694164 ,\n",
       "       -0.23848599, -0.09535775,  0.13125455, -0.00549491,  0.30164322,\n",
       "        0.27272037, -0.22926472, -0.4438084 , -0.2592082 ,  0.33861718,\n",
       "        0.32543322,  0.6807632 , -0.15435179, -0.05286947, -0.52109605,\n",
       "        0.16858831,  0.5705577 ,  0.53359324, -0.21104908, -0.36307734,\n",
       "        0.10918085,  0.01219882, -0.55145234,  0.22348462,  0.3794378 ,\n",
       "       -0.52868366, -0.00725154, -0.36273804,  0.09287827, -0.2971014 ,\n",
       "       -0.24626067, -0.2823309 , -0.02392128, -0.05615169, -0.44504893,\n",
       "       -0.07345832, -0.0076478 ,  0.14102145,  0.32327485, -0.10221358,\n",
       "        0.24867843, -0.22315386, -0.42464373, -0.30778933,  0.02524206,\n",
       "       -0.00602194, -0.3440912 , -0.49924818, -0.15015644,  0.02853761,\n",
       "        0.21711713,  0.10222525, -0.02669179,  0.17540517, -0.26755568,\n",
       "        0.02128853,  0.10014983, -0.19166273, -0.39453664,  0.01107055,\n",
       "        0.05120041,  0.16217668, -0.04301468,  0.23879278, -0.405293  ,\n",
       "        0.17138097,  0.01148968,  0.2059016 , -0.10723783, -0.4065643 ,\n",
       "        0.0931744 , -0.03284542, -0.02419534, -0.28612334, -0.303281  ,\n",
       "       -0.6769837 , -0.08260611,  0.18878718,  0.2032576 ,  0.20634739,\n",
       "       -0.14558461, -0.13265994,  0.35510543,  0.14820038, -0.32076654,\n",
       "        0.05855136,  0.41576326,  0.13555562, -0.5536193 , -0.23375899,\n",
       "        0.39291248,  0.20514579,  0.2899857 , -0.5717586 , -0.3679659 ,\n",
       "       -0.11238682,  0.25245124,  0.2087037 , -0.25550258,  0.15966956,\n",
       "       -0.13658349,  0.04469069,  0.12147766, -0.31419358,  0.37735727,\n",
       "        0.12225008,  0.15486428,  0.09244595, -0.34647253, -0.12470049,\n",
       "        0.20953766,  0.05968635, -0.03655989,  0.27241355, -0.45059282,\n",
       "       -0.05504669, -0.20228295,  0.27346498, -0.27599218,  0.1730309 ,\n",
       "       -0.11724825, -0.05621272, -0.09454522,  0.20848052,  0.14284104,\n",
       "        0.2772039 ,  0.107579  , -0.20974277, -0.11853187, -0.02628215],\n",
       "      dtype=float32)"
      ]
     },
     "execution_count": 76,
     "metadata": {},
     "output_type": "execute_result"
    }
   ],
   "source": [
    "email_dataset[\"Email_Vector\"].iloc[0]"
   ]
  },
  {
   "cell_type": "code",
   "execution_count": 77,
   "id": "d7b2778b-1633-4aea-9787-375fbfc6693c",
   "metadata": {},
   "outputs": [
    {
     "name": "stdout",
     "output_type": "stream",
     "text": [
      "<class 'pandas.core.frame.DataFrame'>\n",
      "RangeIndex: 5171 entries, 0 to 5170\n",
      "Data columns (total 7 columns):\n",
      " #   Column            Non-Null Count  Dtype \n",
      "---  ------            --------------  ----- \n",
      " 0   Email             5171 non-null   object\n",
      " 1   Spam              5171 non-null   int64 \n",
      " 2   URL               5171 non-null   int32 \n",
      " 3   Spelling Mistake  5171 non-null   int64 \n",
      " 4   Spam Words        5171 non-null   int64 \n",
      " 5   Tokenized_Email   5171 non-null   object\n",
      " 6   Email_Vector      5171 non-null   object\n",
      "dtypes: int32(1), int64(3), object(3)\n",
      "memory usage: 262.7+ KB\n"
     ]
    }
   ],
   "source": [
    "email_dataset.info()"
   ]
  },
  {
   "cell_type": "code",
   "execution_count": 78,
   "id": "08b35c84-cf4b-4d89-85eb-2f03d180e42a",
   "metadata": {},
   "outputs": [],
   "source": [
    "scaler = MinMaxScaler()\n",
    "email_dataset[['Spam Words', 'Spelling Mistake']] = scaler.fit_transform(email_dataset[['Spam Words', 'Spelling Mistake']])"
   ]
  },
  {
   "cell_type": "code",
   "execution_count": 79,
   "id": "5f5e0d1c-48c7-4951-8091-9c508e4cf140",
   "metadata": {},
   "outputs": [
    {
     "data": {
      "text/html": [
       "<div>\n",
       "<style scoped>\n",
       "    .dataframe tbody tr th:only-of-type {\n",
       "        vertical-align: middle;\n",
       "    }\n",
       "\n",
       "    .dataframe tbody tr th {\n",
       "        vertical-align: top;\n",
       "    }\n",
       "\n",
       "    .dataframe thead th {\n",
       "        text-align: right;\n",
       "    }\n",
       "</style>\n",
       "<table border=\"1\" class=\"dataframe\">\n",
       "  <thead>\n",
       "    <tr style=\"text-align: right;\">\n",
       "      <th></th>\n",
       "      <th>Email</th>\n",
       "      <th>Spam</th>\n",
       "      <th>URL</th>\n",
       "      <th>Spelling Mistake</th>\n",
       "      <th>Spam Words</th>\n",
       "      <th>Tokenized_Email</th>\n",
       "      <th>Email_Vector</th>\n",
       "    </tr>\n",
       "  </thead>\n",
       "  <tbody>\n",
       "    <tr>\n",
       "      <th>0</th>\n",
       "      <td>subject enron methanol meter 988291 follow not...</td>\n",
       "      <td>0</td>\n",
       "      <td>0</td>\n",
       "      <td>0.000000</td>\n",
       "      <td>0.0</td>\n",
       "      <td>[subject, enron, methanol, meter, 988291, foll...</td>\n",
       "      <td>[0.009583299, 0.31352717, -0.39792824, -0.1951...</td>\n",
       "    </tr>\n",
       "    <tr>\n",
       "      <th>1</th>\n",
       "      <td>subject hpl nom january 9 2001 see attached fi...</td>\n",
       "      <td>0</td>\n",
       "      <td>0</td>\n",
       "      <td>0.001887</td>\n",
       "      <td>0.0</td>\n",
       "      <td>[subject, hpl, nom, january, 9, 2001, see, att...</td>\n",
       "      <td>[-0.44266564, 0.4444116, -0.32168856, 0.405939...</td>\n",
       "    </tr>\n",
       "    <tr>\n",
       "      <th>2</th>\n",
       "      <td>subject neon retreat ho ho ho around wonderful...</td>\n",
       "      <td>0</td>\n",
       "      <td>0</td>\n",
       "      <td>0.003774</td>\n",
       "      <td>0.0</td>\n",
       "      <td>[subject, neon, retreat, ho, ho, ho, around, w...</td>\n",
       "      <td>[-0.09661402, 0.20648262, -0.02235691, -0.0803...</td>\n",
       "    </tr>\n",
       "    <tr>\n",
       "      <th>3</th>\n",
       "      <td>subject photoshop window office cheap main tre...</td>\n",
       "      <td>1</td>\n",
       "      <td>0</td>\n",
       "      <td>0.005660</td>\n",
       "      <td>0.1</td>\n",
       "      <td>[subject, photoshop, window, office, cheap, ma...</td>\n",
       "      <td>[0.019383883, 0.060368568, 0.053865988, 0.0294...</td>\n",
       "    </tr>\n",
       "    <tr>\n",
       "      <th>4</th>\n",
       "      <td>subject indian spring deal book teco pvr reven...</td>\n",
       "      <td>0</td>\n",
       "      <td>0</td>\n",
       "      <td>0.002830</td>\n",
       "      <td>0.1</td>\n",
       "      <td>[subject, indian, spring, deal, book, teco, pv...</td>\n",
       "      <td>[-0.033463363, 0.2360083, -0.2184775, -0.17886...</td>\n",
       "    </tr>\n",
       "  </tbody>\n",
       "</table>\n",
       "</div>"
      ],
      "text/plain": [
       "                                               Email  Spam  URL  \\\n",
       "0  subject enron methanol meter 988291 follow not...     0    0   \n",
       "1  subject hpl nom january 9 2001 see attached fi...     0    0   \n",
       "2  subject neon retreat ho ho ho around wonderful...     0    0   \n",
       "3  subject photoshop window office cheap main tre...     1    0   \n",
       "4  subject indian spring deal book teco pvr reven...     0    0   \n",
       "\n",
       "   Spelling Mistake  Spam Words  \\\n",
       "0          0.000000         0.0   \n",
       "1          0.001887         0.0   \n",
       "2          0.003774         0.0   \n",
       "3          0.005660         0.1   \n",
       "4          0.002830         0.1   \n",
       "\n",
       "                                     Tokenized_Email  \\\n",
       "0  [subject, enron, methanol, meter, 988291, foll...   \n",
       "1  [subject, hpl, nom, january, 9, 2001, see, att...   \n",
       "2  [subject, neon, retreat, ho, ho, ho, around, w...   \n",
       "3  [subject, photoshop, window, office, cheap, ma...   \n",
       "4  [subject, indian, spring, deal, book, teco, pv...   \n",
       "\n",
       "                                        Email_Vector  \n",
       "0  [0.009583299, 0.31352717, -0.39792824, -0.1951...  \n",
       "1  [-0.44266564, 0.4444116, -0.32168856, 0.405939...  \n",
       "2  [-0.09661402, 0.20648262, -0.02235691, -0.0803...  \n",
       "3  [0.019383883, 0.060368568, 0.053865988, 0.0294...  \n",
       "4  [-0.033463363, 0.2360083, -0.2184775, -0.17886...  "
      ]
     },
     "execution_count": 79,
     "metadata": {},
     "output_type": "execute_result"
    }
   ],
   "source": [
    "email_dataset.head()"
   ]
  },
  {
   "cell_type": "code",
   "execution_count": 80,
   "id": "256369b1-d307-4632-98eb-12ff62e2dcc9",
   "metadata": {},
   "outputs": [],
   "source": [
    "data_inputs = email_dataset[[\"URL\", \"Spelling Mistake\", \"Spam Words\", \"Email_Vector\"]]"
   ]
  },
  {
   "cell_type": "code",
   "execution_count": 81,
   "id": "2f866a79-5ba6-4ead-bfb6-1b5ec1a2ba62",
   "metadata": {},
   "outputs": [],
   "source": [
    "X_word2vec = np.array(data_inputs[\"Email_Vector\"].tolist(), dtype=np.float64)"
   ]
  },
  {
   "cell_type": "code",
   "execution_count": 82,
   "id": "1899d270-f33a-4dd2-bf20-fb391e8b7128",
   "metadata": {},
   "outputs": [],
   "source": [
    "X_numerical = data_inputs[[\"URL\", \"Spelling Mistake\", \"Spam Words\"]].values"
   ]
  },
  {
   "cell_type": "code",
   "execution_count": 85,
   "id": "9eb446c1-306e-453a-83dc-be98c041894a",
   "metadata": {},
   "outputs": [],
   "source": [
    "X_combined = np.hstack((X_word2vec, X_numerical))"
   ]
  },
  {
   "cell_type": "code",
   "execution_count": 86,
   "id": "ba6893c3-ea18-4c46-97d2-21c28f273ca5",
   "metadata": {},
   "outputs": [],
   "source": [
    "target_column = email_dataset[\"Spam\"]"
   ]
  },
  {
   "cell_type": "code",
   "execution_count": 87,
   "id": "987f4fa3-7473-4da3-8167-a8f11f242482",
   "metadata": {},
   "outputs": [],
   "source": [
    "X_train, X_test, y_train, y_test = train_test_split(X_combined, target_column, test_size=0.2, random_state=42)"
   ]
  },
  {
   "cell_type": "code",
   "execution_count": 88,
   "id": "aa54f610-574f-4f3e-9f75-6a349dbf16f4",
   "metadata": {},
   "outputs": [
    {
     "data": {
      "text/html": [
       "<style>#sk-container-id-1 {color: black;background-color: white;}#sk-container-id-1 pre{padding: 0;}#sk-container-id-1 div.sk-toggleable {background-color: white;}#sk-container-id-1 label.sk-toggleable__label {cursor: pointer;display: block;width: 100%;margin-bottom: 0;padding: 0.3em;box-sizing: border-box;text-align: center;}#sk-container-id-1 label.sk-toggleable__label-arrow:before {content: \"▸\";float: left;margin-right: 0.25em;color: #696969;}#sk-container-id-1 label.sk-toggleable__label-arrow:hover:before {color: black;}#sk-container-id-1 div.sk-estimator:hover label.sk-toggleable__label-arrow:before {color: black;}#sk-container-id-1 div.sk-toggleable__content {max-height: 0;max-width: 0;overflow: hidden;text-align: left;background-color: #f0f8ff;}#sk-container-id-1 div.sk-toggleable__content pre {margin: 0.2em;color: black;border-radius: 0.25em;background-color: #f0f8ff;}#sk-container-id-1 input.sk-toggleable__control:checked~div.sk-toggleable__content {max-height: 200px;max-width: 100%;overflow: auto;}#sk-container-id-1 input.sk-toggleable__control:checked~label.sk-toggleable__label-arrow:before {content: \"▾\";}#sk-container-id-1 div.sk-estimator input.sk-toggleable__control:checked~label.sk-toggleable__label {background-color: #d4ebff;}#sk-container-id-1 div.sk-label input.sk-toggleable__control:checked~label.sk-toggleable__label {background-color: #d4ebff;}#sk-container-id-1 input.sk-hidden--visually {border: 0;clip: rect(1px 1px 1px 1px);clip: rect(1px, 1px, 1px, 1px);height: 1px;margin: -1px;overflow: hidden;padding: 0;position: absolute;width: 1px;}#sk-container-id-1 div.sk-estimator {font-family: monospace;background-color: #f0f8ff;border: 1px dotted black;border-radius: 0.25em;box-sizing: border-box;margin-bottom: 0.5em;}#sk-container-id-1 div.sk-estimator:hover {background-color: #d4ebff;}#sk-container-id-1 div.sk-parallel-item::after {content: \"\";width: 100%;border-bottom: 1px solid gray;flex-grow: 1;}#sk-container-id-1 div.sk-label:hover label.sk-toggleable__label {background-color: #d4ebff;}#sk-container-id-1 div.sk-serial::before {content: \"\";position: absolute;border-left: 1px solid gray;box-sizing: border-box;top: 0;bottom: 0;left: 50%;z-index: 0;}#sk-container-id-1 div.sk-serial {display: flex;flex-direction: column;align-items: center;background-color: white;padding-right: 0.2em;padding-left: 0.2em;position: relative;}#sk-container-id-1 div.sk-item {position: relative;z-index: 1;}#sk-container-id-1 div.sk-parallel {display: flex;align-items: stretch;justify-content: center;background-color: white;position: relative;}#sk-container-id-1 div.sk-item::before, #sk-container-id-1 div.sk-parallel-item::before {content: \"\";position: absolute;border-left: 1px solid gray;box-sizing: border-box;top: 0;bottom: 0;left: 50%;z-index: -1;}#sk-container-id-1 div.sk-parallel-item {display: flex;flex-direction: column;z-index: 1;position: relative;background-color: white;}#sk-container-id-1 div.sk-parallel-item:first-child::after {align-self: flex-end;width: 50%;}#sk-container-id-1 div.sk-parallel-item:last-child::after {align-self: flex-start;width: 50%;}#sk-container-id-1 div.sk-parallel-item:only-child::after {width: 0;}#sk-container-id-1 div.sk-dashed-wrapped {border: 1px dashed gray;margin: 0 0.4em 0.5em 0.4em;box-sizing: border-box;padding-bottom: 0.4em;background-color: white;}#sk-container-id-1 div.sk-label label {font-family: monospace;font-weight: bold;display: inline-block;line-height: 1.2em;}#sk-container-id-1 div.sk-label-container {text-align: center;}#sk-container-id-1 div.sk-container {/* jupyter's `normalize.less` sets `[hidden] { display: none; }` but bootstrap.min.css set `[hidden] { display: none !important; }` so we also need the `!important` here to be able to override the default hidden behavior on the sphinx rendered scikit-learn.org. See: https://github.com/scikit-learn/scikit-learn/issues/21755 */display: inline-block !important;position: relative;}#sk-container-id-1 div.sk-text-repr-fallback {display: none;}</style><div id=\"sk-container-id-1\" class=\"sk-top-container\"><div class=\"sk-text-repr-fallback\"><pre>GaussianNB()</pre><b>In a Jupyter environment, please rerun this cell to show the HTML representation or trust the notebook. <br />On GitHub, the HTML representation is unable to render, please try loading this page with nbviewer.org.</b></div><div class=\"sk-container\" hidden><div class=\"sk-item\"><div class=\"sk-estimator sk-toggleable\"><input class=\"sk-toggleable__control sk-hidden--visually\" id=\"sk-estimator-id-1\" type=\"checkbox\" checked><label for=\"sk-estimator-id-1\" class=\"sk-toggleable__label sk-toggleable__label-arrow\">GaussianNB</label><div class=\"sk-toggleable__content\"><pre>GaussianNB()</pre></div></div></div></div></div>"
      ],
      "text/plain": [
       "GaussianNB()"
      ]
     },
     "execution_count": 88,
     "metadata": {},
     "output_type": "execute_result"
    }
   ],
   "source": [
    "gnb_classifier = GaussianNB()\n",
    "gnb_classifier.fit(X_train, y_train)"
   ]
  },
  {
   "cell_type": "code",
   "execution_count": 89,
   "id": "3260f0d0-213f-4450-9d02-ab5ec4fc092c",
   "metadata": {},
   "outputs": [],
   "source": [
    "y_pred = gnb_classifier.predict(X_test)"
   ]
  },
  {
   "cell_type": "code",
   "execution_count": 90,
   "id": "0550740d-7f41-4446-a87c-758f1c380110",
   "metadata": {},
   "outputs": [
    {
     "name": "stdout",
     "output_type": "stream",
     "text": [
      "Accuracy: 0.8801932367149758\n",
      "              precision    recall  f1-score   support\n",
      "\n",
      "           0       0.97      0.86      0.91       742\n",
      "           1       0.72      0.93      0.81       293\n",
      "\n",
      "    accuracy                           0.88      1035\n",
      "   macro avg       0.85      0.90      0.86      1035\n",
      "weighted avg       0.90      0.88      0.88      1035\n",
      "\n"
     ]
    }
   ],
   "source": [
    "print(\"Accuracy:\", accuracy_score(y_test, y_pred))\n",
    "print(classification_report(y_test, y_pred))"
   ]
  },
  {
   "cell_type": "code",
   "execution_count": 91,
   "id": "6ec70d6c-921c-4766-8243-f69f890c803e",
   "metadata": {},
   "outputs": [
    {
     "data": {
      "text/html": [
       "<style>#sk-container-id-2 {color: black;background-color: white;}#sk-container-id-2 pre{padding: 0;}#sk-container-id-2 div.sk-toggleable {background-color: white;}#sk-container-id-2 label.sk-toggleable__label {cursor: pointer;display: block;width: 100%;margin-bottom: 0;padding: 0.3em;box-sizing: border-box;text-align: center;}#sk-container-id-2 label.sk-toggleable__label-arrow:before {content: \"▸\";float: left;margin-right: 0.25em;color: #696969;}#sk-container-id-2 label.sk-toggleable__label-arrow:hover:before {color: black;}#sk-container-id-2 div.sk-estimator:hover label.sk-toggleable__label-arrow:before {color: black;}#sk-container-id-2 div.sk-toggleable__content {max-height: 0;max-width: 0;overflow: hidden;text-align: left;background-color: #f0f8ff;}#sk-container-id-2 div.sk-toggleable__content pre {margin: 0.2em;color: black;border-radius: 0.25em;background-color: #f0f8ff;}#sk-container-id-2 input.sk-toggleable__control:checked~div.sk-toggleable__content {max-height: 200px;max-width: 100%;overflow: auto;}#sk-container-id-2 input.sk-toggleable__control:checked~label.sk-toggleable__label-arrow:before {content: \"▾\";}#sk-container-id-2 div.sk-estimator input.sk-toggleable__control:checked~label.sk-toggleable__label {background-color: #d4ebff;}#sk-container-id-2 div.sk-label input.sk-toggleable__control:checked~label.sk-toggleable__label {background-color: #d4ebff;}#sk-container-id-2 input.sk-hidden--visually {border: 0;clip: rect(1px 1px 1px 1px);clip: rect(1px, 1px, 1px, 1px);height: 1px;margin: -1px;overflow: hidden;padding: 0;position: absolute;width: 1px;}#sk-container-id-2 div.sk-estimator {font-family: monospace;background-color: #f0f8ff;border: 1px dotted black;border-radius: 0.25em;box-sizing: border-box;margin-bottom: 0.5em;}#sk-container-id-2 div.sk-estimator:hover {background-color: #d4ebff;}#sk-container-id-2 div.sk-parallel-item::after {content: \"\";width: 100%;border-bottom: 1px solid gray;flex-grow: 1;}#sk-container-id-2 div.sk-label:hover label.sk-toggleable__label {background-color: #d4ebff;}#sk-container-id-2 div.sk-serial::before {content: \"\";position: absolute;border-left: 1px solid gray;box-sizing: border-box;top: 0;bottom: 0;left: 50%;z-index: 0;}#sk-container-id-2 div.sk-serial {display: flex;flex-direction: column;align-items: center;background-color: white;padding-right: 0.2em;padding-left: 0.2em;position: relative;}#sk-container-id-2 div.sk-item {position: relative;z-index: 1;}#sk-container-id-2 div.sk-parallel {display: flex;align-items: stretch;justify-content: center;background-color: white;position: relative;}#sk-container-id-2 div.sk-item::before, #sk-container-id-2 div.sk-parallel-item::before {content: \"\";position: absolute;border-left: 1px solid gray;box-sizing: border-box;top: 0;bottom: 0;left: 50%;z-index: -1;}#sk-container-id-2 div.sk-parallel-item {display: flex;flex-direction: column;z-index: 1;position: relative;background-color: white;}#sk-container-id-2 div.sk-parallel-item:first-child::after {align-self: flex-end;width: 50%;}#sk-container-id-2 div.sk-parallel-item:last-child::after {align-self: flex-start;width: 50%;}#sk-container-id-2 div.sk-parallel-item:only-child::after {width: 0;}#sk-container-id-2 div.sk-dashed-wrapped {border: 1px dashed gray;margin: 0 0.4em 0.5em 0.4em;box-sizing: border-box;padding-bottom: 0.4em;background-color: white;}#sk-container-id-2 div.sk-label label {font-family: monospace;font-weight: bold;display: inline-block;line-height: 1.2em;}#sk-container-id-2 div.sk-label-container {text-align: center;}#sk-container-id-2 div.sk-container {/* jupyter's `normalize.less` sets `[hidden] { display: none; }` but bootstrap.min.css set `[hidden] { display: none !important; }` so we also need the `!important` here to be able to override the default hidden behavior on the sphinx rendered scikit-learn.org. See: https://github.com/scikit-learn/scikit-learn/issues/21755 */display: inline-block !important;position: relative;}#sk-container-id-2 div.sk-text-repr-fallback {display: none;}</style><div id=\"sk-container-id-2\" class=\"sk-top-container\"><div class=\"sk-text-repr-fallback\"><pre>BernoulliNB()</pre><b>In a Jupyter environment, please rerun this cell to show the HTML representation or trust the notebook. <br />On GitHub, the HTML representation is unable to render, please try loading this page with nbviewer.org.</b></div><div class=\"sk-container\" hidden><div class=\"sk-item\"><div class=\"sk-estimator sk-toggleable\"><input class=\"sk-toggleable__control sk-hidden--visually\" id=\"sk-estimator-id-2\" type=\"checkbox\" checked><label for=\"sk-estimator-id-2\" class=\"sk-toggleable__label sk-toggleable__label-arrow\">BernoulliNB</label><div class=\"sk-toggleable__content\"><pre>BernoulliNB()</pre></div></div></div></div></div>"
      ],
      "text/plain": [
       "BernoulliNB()"
      ]
     },
     "execution_count": 91,
     "metadata": {},
     "output_type": "execute_result"
    }
   ],
   "source": [
    "bernoulli_classifier = BernoulliNB()\n",
    "bernoulli_classifier.fit(X_train, y_train)"
   ]
  },
  {
   "cell_type": "code",
   "execution_count": 92,
   "id": "2aeb30f8-e4b4-4d84-b767-d17ff615bbea",
   "metadata": {},
   "outputs": [],
   "source": [
    "y_pred2 = bernoulli_classifier.predict(X_test)"
   ]
  },
  {
   "cell_type": "code",
   "execution_count": 93,
   "id": "3518688e-b01f-4e2c-8ea7-3d5a5e4b37e1",
   "metadata": {},
   "outputs": [
    {
     "name": "stdout",
     "output_type": "stream",
     "text": [
      "Accuracy: 0.9188405797101449\n",
      "              precision    recall  f1-score   support\n",
      "\n",
      "           0       0.97      0.91      0.94       742\n",
      "           1       0.81      0.93      0.87       293\n",
      "\n",
      "    accuracy                           0.92      1035\n",
      "   macro avg       0.89      0.92      0.90      1035\n",
      "weighted avg       0.93      0.92      0.92      1035\n",
      "\n"
     ]
    }
   ],
   "source": [
    "print(\"Accuracy:\", accuracy_score(y_test, y_pred2))\n",
    "print(classification_report(y_test, y_pred2))"
   ]
  },
  {
   "cell_type": "code",
   "execution_count": 94,
   "id": "a86b4a89-d663-4235-9c1e-aa8c6df6f05a",
   "metadata": {},
   "outputs": [
    {
     "name": "stdout",
     "output_type": "stream",
     "text": [
      "Best Parameters: {'alpha': 0.01, 'binarize': 0.0, 'fit_prior': False}\n"
     ]
    },
    {
     "name": "stderr",
     "output_type": "stream",
     "text": [
      "E:\\Anaconda\\Lib\\site-packages\\sklearn\\model_selection\\_validation.py:378: FitFailedWarning: \n",
      "60 fits failed out of a total of 300.\n",
      "The score on these train-test partitions for these parameters will be set to nan.\n",
      "If these failures are not expected, you can try to debug them by setting error_score='raise'.\n",
      "\n",
      "Below are more details about the failures:\n",
      "--------------------------------------------------------------------------------\n",
      "60 fits failed with the following error:\n",
      "Traceback (most recent call last):\n",
      "  File \"E:\\Anaconda\\Lib\\site-packages\\sklearn\\model_selection\\_validation.py\", line 686, in _fit_and_score\n",
      "    estimator.fit(X_train, y_train, **fit_params)\n",
      "  File \"E:\\Anaconda\\Lib\\site-packages\\sklearn\\naive_bayes.py\", line 748, in fit\n",
      "    self._validate_params()\n",
      "  File \"E:\\Anaconda\\Lib\\site-packages\\sklearn\\base.py\", line 600, in _validate_params\n",
      "    validate_parameter_constraints(\n",
      "  File \"E:\\Anaconda\\Lib\\site-packages\\sklearn\\utils\\_param_validation.py\", line 97, in validate_parameter_constraints\n",
      "    raise InvalidParameterError(\n",
      "sklearn.utils._param_validation.InvalidParameterError: The 'binarize' parameter of BernoulliNB must be None or a float in the range [0, inf). Got -1.0 instead.\n",
      "\n",
      "  warnings.warn(some_fits_failed_message, FitFailedWarning)\n",
      "E:\\Anaconda\\Lib\\site-packages\\sklearn\\model_selection\\_search.py:952: UserWarning: One or more of the test scores are non-finite: [0.90328643 0.90328643 0.889504   0.88805268 0.80294966 0.79690401\n",
      " 0.60275514 0.60299698        nan        nan 0.90304459 0.90256091\n",
      " 0.889504   0.88781084 0.8019826  0.79593695 0.60275514 0.60275514\n",
      "        nan        nan 0.90183598 0.90183598 0.88926216 0.88781084\n",
      " 0.80174077 0.79617878 0.71131673 0.60275514        nan        nan\n",
      " 0.90207782 0.90183598 0.88926216 0.88732716 0.79932239 0.79424408\n",
      " 0.71131673 0.6025136         nan        nan 0.90183598 0.9013526\n",
      " 0.88902003 0.88732716 0.79883871 0.79327702 0.71131673 0.60227176\n",
      "        nan        nan 0.90111047 0.90086892 0.88781084 0.88708533\n",
      " 0.79690313 0.78964974 0.71131673 0.64215136        nan        nan]\n",
      "  warnings.warn(\n"
     ]
    }
   ],
   "source": [
    "param_grid = {\n",
    "    'alpha': [0.01, 0.1, 0.5, 1.0, 2.0, 5.0], \n",
    "    'binarize': [0.0, 0.2, 0.5, 1.0, -1.0], \n",
    "    'fit_prior': [True, False]\n",
    "}\n",
    "\n",
    "grid_search = GridSearchCV(BernoulliNB(), param_grid, cv=5, scoring='accuracy')\n",
    "grid_search.fit(X_train, y_train)\n",
    "\n",
    "print(\"Best Parameters:\", grid_search.best_params_)"
   ]
  },
  {
   "cell_type": "code",
   "execution_count": 95,
   "id": "a33c3f1f-0efe-4d20-8c33-cbc93c7f2fed",
   "metadata": {},
   "outputs": [],
   "source": [
    "best_bnb = BernoulliNB(alpha=0.01, binarize=0.0, fit_prior=True)\n",
    "best_bnb.fit(X_train, y_train)\n",
    "y_pred3 = best_bnb.predict(X_test)"
   ]
  },
  {
   "cell_type": "code",
   "execution_count": 96,
   "id": "e614a33c-a269-4a38-bd25-73b4003b7ae8",
   "metadata": {},
   "outputs": [
    {
     "name": "stdout",
     "output_type": "stream",
     "text": [
      "Accuracy: 0.9227053140096618\n",
      "              precision    recall  f1-score   support\n",
      "\n",
      "           0       0.97      0.92      0.94       742\n",
      "           1       0.82      0.93      0.87       293\n",
      "\n",
      "    accuracy                           0.92      1035\n",
      "   macro avg       0.90      0.93      0.91      1035\n",
      "weighted avg       0.93      0.92      0.92      1035\n",
      "\n"
     ]
    }
   ],
   "source": [
    "print(\"Accuracy:\", accuracy_score(y_test, y_pred3))\n",
    "print(classification_report(y_test, y_pred3))"
   ]
  },
  {
   "cell_type": "code",
   "execution_count": 97,
   "id": "d8a1ed44-f450-40d4-8387-159003f46eed",
   "metadata": {},
   "outputs": [],
   "source": [
    "tfidf_vectorizer = TfidfVectorizer(max_features=5000)\n",
    "X_tfidf = tfidf_vectorizer.fit_transform(email_dataset[\"Email\"])"
   ]
  },
  {
   "cell_type": "code",
   "execution_count": 98,
   "id": "7b056376-0b64-4d2f-bce5-a7861f14798e",
   "metadata": {},
   "outputs": [],
   "source": [
    "X_numeric = email_dataset[[\"URL\", \"Spelling Mistake\", \"Spam Words\"]].values\n",
    "X = sp.hstack((X_tfidf, X_numeric), format=\"csr\")"
   ]
  },
  {
   "cell_type": "code",
   "execution_count": 102,
   "id": "aff52c91-a6fd-4f4c-bd3a-40cd4c81f8d6",
   "metadata": {},
   "outputs": [],
   "source": [
    "X_train2, X_test2, y_train2, y_test2 = train_test_split(X, target_column, test_size=0.2, random_state=42)"
   ]
  },
  {
   "cell_type": "code",
   "execution_count": 103,
   "id": "502afde7-e8b1-485d-90b2-348f649476de",
   "metadata": {},
   "outputs": [
    {
     "data": {
      "text/html": [
       "<style>#sk-container-id-3 {color: black;background-color: white;}#sk-container-id-3 pre{padding: 0;}#sk-container-id-3 div.sk-toggleable {background-color: white;}#sk-container-id-3 label.sk-toggleable__label {cursor: pointer;display: block;width: 100%;margin-bottom: 0;padding: 0.3em;box-sizing: border-box;text-align: center;}#sk-container-id-3 label.sk-toggleable__label-arrow:before {content: \"▸\";float: left;margin-right: 0.25em;color: #696969;}#sk-container-id-3 label.sk-toggleable__label-arrow:hover:before {color: black;}#sk-container-id-3 div.sk-estimator:hover label.sk-toggleable__label-arrow:before {color: black;}#sk-container-id-3 div.sk-toggleable__content {max-height: 0;max-width: 0;overflow: hidden;text-align: left;background-color: #f0f8ff;}#sk-container-id-3 div.sk-toggleable__content pre {margin: 0.2em;color: black;border-radius: 0.25em;background-color: #f0f8ff;}#sk-container-id-3 input.sk-toggleable__control:checked~div.sk-toggleable__content {max-height: 200px;max-width: 100%;overflow: auto;}#sk-container-id-3 input.sk-toggleable__control:checked~label.sk-toggleable__label-arrow:before {content: \"▾\";}#sk-container-id-3 div.sk-estimator input.sk-toggleable__control:checked~label.sk-toggleable__label {background-color: #d4ebff;}#sk-container-id-3 div.sk-label input.sk-toggleable__control:checked~label.sk-toggleable__label {background-color: #d4ebff;}#sk-container-id-3 input.sk-hidden--visually {border: 0;clip: rect(1px 1px 1px 1px);clip: rect(1px, 1px, 1px, 1px);height: 1px;margin: -1px;overflow: hidden;padding: 0;position: absolute;width: 1px;}#sk-container-id-3 div.sk-estimator {font-family: monospace;background-color: #f0f8ff;border: 1px dotted black;border-radius: 0.25em;box-sizing: border-box;margin-bottom: 0.5em;}#sk-container-id-3 div.sk-estimator:hover {background-color: #d4ebff;}#sk-container-id-3 div.sk-parallel-item::after {content: \"\";width: 100%;border-bottom: 1px solid gray;flex-grow: 1;}#sk-container-id-3 div.sk-label:hover label.sk-toggleable__label {background-color: #d4ebff;}#sk-container-id-3 div.sk-serial::before {content: \"\";position: absolute;border-left: 1px solid gray;box-sizing: border-box;top: 0;bottom: 0;left: 50%;z-index: 0;}#sk-container-id-3 div.sk-serial {display: flex;flex-direction: column;align-items: center;background-color: white;padding-right: 0.2em;padding-left: 0.2em;position: relative;}#sk-container-id-3 div.sk-item {position: relative;z-index: 1;}#sk-container-id-3 div.sk-parallel {display: flex;align-items: stretch;justify-content: center;background-color: white;position: relative;}#sk-container-id-3 div.sk-item::before, #sk-container-id-3 div.sk-parallel-item::before {content: \"\";position: absolute;border-left: 1px solid gray;box-sizing: border-box;top: 0;bottom: 0;left: 50%;z-index: -1;}#sk-container-id-3 div.sk-parallel-item {display: flex;flex-direction: column;z-index: 1;position: relative;background-color: white;}#sk-container-id-3 div.sk-parallel-item:first-child::after {align-self: flex-end;width: 50%;}#sk-container-id-3 div.sk-parallel-item:last-child::after {align-self: flex-start;width: 50%;}#sk-container-id-3 div.sk-parallel-item:only-child::after {width: 0;}#sk-container-id-3 div.sk-dashed-wrapped {border: 1px dashed gray;margin: 0 0.4em 0.5em 0.4em;box-sizing: border-box;padding-bottom: 0.4em;background-color: white;}#sk-container-id-3 div.sk-label label {font-family: monospace;font-weight: bold;display: inline-block;line-height: 1.2em;}#sk-container-id-3 div.sk-label-container {text-align: center;}#sk-container-id-3 div.sk-container {/* jupyter's `normalize.less` sets `[hidden] { display: none; }` but bootstrap.min.css set `[hidden] { display: none !important; }` so we also need the `!important` here to be able to override the default hidden behavior on the sphinx rendered scikit-learn.org. See: https://github.com/scikit-learn/scikit-learn/issues/21755 */display: inline-block !important;position: relative;}#sk-container-id-3 div.sk-text-repr-fallback {display: none;}</style><div id=\"sk-container-id-3\" class=\"sk-top-container\"><div class=\"sk-text-repr-fallback\"><pre>BernoulliNB(alpha=0.01)</pre><b>In a Jupyter environment, please rerun this cell to show the HTML representation or trust the notebook. <br />On GitHub, the HTML representation is unable to render, please try loading this page with nbviewer.org.</b></div><div class=\"sk-container\" hidden><div class=\"sk-item\"><div class=\"sk-estimator sk-toggleable\"><input class=\"sk-toggleable__control sk-hidden--visually\" id=\"sk-estimator-id-3\" type=\"checkbox\" checked><label for=\"sk-estimator-id-3\" class=\"sk-toggleable__label sk-toggleable__label-arrow\">BernoulliNB</label><div class=\"sk-toggleable__content\"><pre>BernoulliNB(alpha=0.01)</pre></div></div></div></div></div>"
      ],
      "text/plain": [
       "BernoulliNB(alpha=0.01)"
      ]
     },
     "execution_count": 103,
     "metadata": {},
     "output_type": "execute_result"
    }
   ],
   "source": [
    "bnb_tfidf = BernoulliNB(alpha=0.01, binarize=0.0, fit_prior=True)\n",
    "bnb_tfidf.fit(X_train2, y_train2)"
   ]
  },
  {
   "cell_type": "code",
   "execution_count": 104,
   "id": "bbde5b23-87d7-48b7-90d4-c6cd62c7491a",
   "metadata": {},
   "outputs": [
    {
     "name": "stdout",
     "output_type": "stream",
     "text": [
      "Accuracy: 0.9410628019323671\n",
      "              precision    recall  f1-score   support\n",
      "\n",
      "           0       0.95      0.96      0.96       742\n",
      "           1       0.91      0.88      0.89       293\n",
      "\n",
      "    accuracy                           0.94      1035\n",
      "   macro avg       0.93      0.92      0.93      1035\n",
      "weighted avg       0.94      0.94      0.94      1035\n",
      "\n"
     ]
    }
   ],
   "source": [
    "y_pred4 = bnb_tfidf.predict(X_test2)\n",
    "\n",
    "print(\"Accuracy:\", accuracy_score(y_test2, y_pred4))\n",
    "print(classification_report(y_test2, y_pred4))"
   ]
  },
  {
   "cell_type": "code",
   "execution_count": 105,
   "id": "a36c5478-91d6-4f97-bd82-269c49bebef4",
   "metadata": {},
   "outputs": [
    {
     "data": {
      "text/html": [
       "<style>#sk-container-id-4 {color: black;background-color: white;}#sk-container-id-4 pre{padding: 0;}#sk-container-id-4 div.sk-toggleable {background-color: white;}#sk-container-id-4 label.sk-toggleable__label {cursor: pointer;display: block;width: 100%;margin-bottom: 0;padding: 0.3em;box-sizing: border-box;text-align: center;}#sk-container-id-4 label.sk-toggleable__label-arrow:before {content: \"▸\";float: left;margin-right: 0.25em;color: #696969;}#sk-container-id-4 label.sk-toggleable__label-arrow:hover:before {color: black;}#sk-container-id-4 div.sk-estimator:hover label.sk-toggleable__label-arrow:before {color: black;}#sk-container-id-4 div.sk-toggleable__content {max-height: 0;max-width: 0;overflow: hidden;text-align: left;background-color: #f0f8ff;}#sk-container-id-4 div.sk-toggleable__content pre {margin: 0.2em;color: black;border-radius: 0.25em;background-color: #f0f8ff;}#sk-container-id-4 input.sk-toggleable__control:checked~div.sk-toggleable__content {max-height: 200px;max-width: 100%;overflow: auto;}#sk-container-id-4 input.sk-toggleable__control:checked~label.sk-toggleable__label-arrow:before {content: \"▾\";}#sk-container-id-4 div.sk-estimator input.sk-toggleable__control:checked~label.sk-toggleable__label {background-color: #d4ebff;}#sk-container-id-4 div.sk-label input.sk-toggleable__control:checked~label.sk-toggleable__label {background-color: #d4ebff;}#sk-container-id-4 input.sk-hidden--visually {border: 0;clip: rect(1px 1px 1px 1px);clip: rect(1px, 1px, 1px, 1px);height: 1px;margin: -1px;overflow: hidden;padding: 0;position: absolute;width: 1px;}#sk-container-id-4 div.sk-estimator {font-family: monospace;background-color: #f0f8ff;border: 1px dotted black;border-radius: 0.25em;box-sizing: border-box;margin-bottom: 0.5em;}#sk-container-id-4 div.sk-estimator:hover {background-color: #d4ebff;}#sk-container-id-4 div.sk-parallel-item::after {content: \"\";width: 100%;border-bottom: 1px solid gray;flex-grow: 1;}#sk-container-id-4 div.sk-label:hover label.sk-toggleable__label {background-color: #d4ebff;}#sk-container-id-4 div.sk-serial::before {content: \"\";position: absolute;border-left: 1px solid gray;box-sizing: border-box;top: 0;bottom: 0;left: 50%;z-index: 0;}#sk-container-id-4 div.sk-serial {display: flex;flex-direction: column;align-items: center;background-color: white;padding-right: 0.2em;padding-left: 0.2em;position: relative;}#sk-container-id-4 div.sk-item {position: relative;z-index: 1;}#sk-container-id-4 div.sk-parallel {display: flex;align-items: stretch;justify-content: center;background-color: white;position: relative;}#sk-container-id-4 div.sk-item::before, #sk-container-id-4 div.sk-parallel-item::before {content: \"\";position: absolute;border-left: 1px solid gray;box-sizing: border-box;top: 0;bottom: 0;left: 50%;z-index: -1;}#sk-container-id-4 div.sk-parallel-item {display: flex;flex-direction: column;z-index: 1;position: relative;background-color: white;}#sk-container-id-4 div.sk-parallel-item:first-child::after {align-self: flex-end;width: 50%;}#sk-container-id-4 div.sk-parallel-item:last-child::after {align-self: flex-start;width: 50%;}#sk-container-id-4 div.sk-parallel-item:only-child::after {width: 0;}#sk-container-id-4 div.sk-dashed-wrapped {border: 1px dashed gray;margin: 0 0.4em 0.5em 0.4em;box-sizing: border-box;padding-bottom: 0.4em;background-color: white;}#sk-container-id-4 div.sk-label label {font-family: monospace;font-weight: bold;display: inline-block;line-height: 1.2em;}#sk-container-id-4 div.sk-label-container {text-align: center;}#sk-container-id-4 div.sk-container {/* jupyter's `normalize.less` sets `[hidden] { display: none; }` but bootstrap.min.css set `[hidden] { display: none !important; }` so we also need the `!important` here to be able to override the default hidden behavior on the sphinx rendered scikit-learn.org. See: https://github.com/scikit-learn/scikit-learn/issues/21755 */display: inline-block !important;position: relative;}#sk-container-id-4 div.sk-text-repr-fallback {display: none;}</style><div id=\"sk-container-id-4\" class=\"sk-top-container\"><div class=\"sk-text-repr-fallback\"><pre>MultinomialNB()</pre><b>In a Jupyter environment, please rerun this cell to show the HTML representation or trust the notebook. <br />On GitHub, the HTML representation is unable to render, please try loading this page with nbviewer.org.</b></div><div class=\"sk-container\" hidden><div class=\"sk-item\"><div class=\"sk-estimator sk-toggleable\"><input class=\"sk-toggleable__control sk-hidden--visually\" id=\"sk-estimator-id-4\" type=\"checkbox\" checked><label for=\"sk-estimator-id-4\" class=\"sk-toggleable__label sk-toggleable__label-arrow\">MultinomialNB</label><div class=\"sk-toggleable__content\"><pre>MultinomialNB()</pre></div></div></div></div></div>"
      ],
      "text/plain": [
       "MultinomialNB()"
      ]
     },
     "execution_count": 105,
     "metadata": {},
     "output_type": "execute_result"
    }
   ],
   "source": [
    "multinomial_classifier = MultinomialNB()\n",
    "multinomial_classifier.fit(X_train2, y_train2)"
   ]
  },
  {
   "cell_type": "code",
   "execution_count": 106,
   "id": "0dc656ab-fa55-4474-9a26-ef98d57742ef",
   "metadata": {},
   "outputs": [
    {
     "name": "stdout",
     "output_type": "stream",
     "text": [
      "Accuracy: 0.9516908212560387\n",
      "              precision    recall  f1-score   support\n",
      "\n",
      "           0       0.97      0.96      0.97       742\n",
      "           1       0.90      0.93      0.92       293\n",
      "\n",
      "    accuracy                           0.95      1035\n",
      "   macro avg       0.94      0.95      0.94      1035\n",
      "weighted avg       0.95      0.95      0.95      1035\n",
      "\n"
     ]
    }
   ],
   "source": [
    "y_pred5 = multinomial_classifier.predict(X_test2)\n",
    "\n",
    "print(\"Accuracy:\", accuracy_score(y_test2, y_pred5))\n",
    "print(classification_report(y_test2, y_pred5))"
   ]
  },
  {
   "cell_type": "code",
   "execution_count": 107,
   "id": "3a14bed8-d341-4524-8108-8f438784b981",
   "metadata": {},
   "outputs": [
    {
     "name": "stdout",
     "output_type": "stream",
     "text": [
      "Accuracy: 0.9623188405797102\n",
      "              precision    recall  f1-score   support\n",
      "\n",
      "           0       0.98      0.97      0.97       742\n",
      "           1       0.93      0.94      0.93       293\n",
      "\n",
      "    accuracy                           0.96      1035\n",
      "   macro avg       0.95      0.96      0.95      1035\n",
      "weighted avg       0.96      0.96      0.96      1035\n",
      "\n"
     ]
    }
   ],
   "source": [
    "multinomial_classifier = MultinomialNB(alpha=0.0001)\n",
    "multinomial_classifier.fit(X_train2, y_train2)\n",
    "y_pred6 = multinomial_classifier.predict(X_test2)\n",
    "\n",
    "print(\"Accuracy:\", accuracy_score(y_test2, y_pred6))\n",
    "print(classification_report(y_test2, y_pred6))"
   ]
  },
  {
   "cell_type": "code",
   "execution_count": 139,
   "id": "0c23eb49-5985-420f-bb70-c1949cf810c8",
   "metadata": {},
   "outputs": [
    {
     "name": "stdout",
     "output_type": "stream",
     "text": [
      "Accuracy: 0.9806763285024155\n",
      "              precision    recall  f1-score   support\n",
      "\n",
      "           0       0.99      0.98      0.99       742\n",
      "           1       0.96      0.98      0.97       293\n",
      "\n",
      "    accuracy                           0.98      1035\n",
      "   macro avg       0.97      0.98      0.98      1035\n",
      "weighted avg       0.98      0.98      0.98      1035\n",
      "\n"
     ]
    }
   ],
   "source": [
    "rf_classifier = RandomForestClassifier()\n",
    "rf_classifier.fit(X_train2, y_train2)\n",
    "y_pred7 = rf_classifier.predict(X_test2)\n",
    "\n",
    "print(\"Accuracy:\", accuracy_score(y_test2, y_pred7))\n",
    "print(classification_report(y_test2, y_pred7))"
   ]
  },
  {
   "cell_type": "code",
   "execution_count": 143,
   "id": "05fec91d-7708-4887-9be4-ce507224a441",
   "metadata": {},
   "outputs": [
    {
     "name": "stdout",
     "output_type": "stream",
     "text": [
      "Accuracy: 0.9690821256038648\n",
      "              precision    recall  f1-score   support\n",
      "\n",
      "           0       0.98      0.97      0.98       742\n",
      "           1       0.94      0.96      0.95       293\n",
      "\n",
      "    accuracy                           0.97      1035\n",
      "   macro avg       0.96      0.97      0.96      1035\n",
      "weighted avg       0.97      0.97      0.97      1035\n",
      "\n"
     ]
    }
   ],
   "source": [
    "rf_classifier2 = RandomForestClassifier()\n",
    "rf_classifier2.fit(X_train, y_train)\n",
    "y_pred8 = rf_classifier2.predict(X_test)\n",
    "\n",
    "print(\"Accuracy:\", accuracy_score(y_test, y_pred8))\n",
    "print(classification_report(y_test, y_pred8))"
   ]
  },
  {
   "cell_type": "code",
   "execution_count": 145,
   "id": "3ccac666-e574-4d69-ac3d-c32bdeb674a8",
   "metadata": {},
   "outputs": [
    {
     "name": "stdout",
     "output_type": "stream",
     "text": [
      "Fitting 5 folds for each of 162 candidates, totalling 810 fits\n",
      "Best Parameters: {'criterion': 'entropy', 'max_depth': None, 'min_samples_leaf': 1, 'min_samples_split': 2, 'n_estimators': 200}\n"
     ]
    }
   ],
   "source": [
    "param_grid = {\n",
    "    'n_estimators': [50, 100, 200], \n",
    "    'max_depth': [None, 10, 20],     \n",
    "    'min_samples_split': [2, 5, 10], \n",
    "    'min_samples_leaf': [1, 2, 4],  \n",
    "    'criterion': ['gini', 'entropy'] \n",
    "}\n",
    "\n",
    "rf = RandomForestClassifier(random_state=42)\n",
    "\n",
    "grid_search = GridSearchCV(estimator=rf, param_grid=param_grid, cv=5, n_jobs=-1, verbose=2)\n",
    "\n",
    "grid_search.fit(X_train2, y_train2)\n",
    "\n",
    "print(\"Best Parameters:\", grid_search.best_params_)"
   ]
  },
  {
   "cell_type": "code",
   "execution_count": 149,
   "id": "28fbfb5f-8cf6-473c-a78c-d9fb0588a9f7",
   "metadata": {},
   "outputs": [
    {
     "name": "stdout",
     "output_type": "stream",
     "text": [
      "Accuracy: 0.9835748792270531\n",
      "              precision    recall  f1-score   support\n",
      "\n",
      "           0       0.99      0.98      0.99       742\n",
      "           1       0.96      0.99      0.97       293\n",
      "\n",
      "    accuracy                           0.98      1035\n",
      "   macro avg       0.98      0.98      0.98      1035\n",
      "weighted avg       0.98      0.98      0.98      1035\n",
      "\n"
     ]
    }
   ],
   "source": [
    "best_rf = RandomForestClassifier(criterion=\"entropy\", max_depth=None, min_samples_leaf=1, min_samples_split=2, n_estimators=200)\n",
    "best_rf.fit(X_train2, y_train2)\n",
    "y_pred9 = best_rf.predict(X_test2)\n",
    "\n",
    "print(\"Accuracy:\", accuracy_score(y_test2, y_pred9))\n",
    "print(classification_report(y_test2, y_pred9))"
   ]
  },
  {
   "cell_type": "markdown",
   "id": "9fb8cc52-7f3b-4aab-b4d3-738bf98447bf",
   "metadata": {},
   "source": [
    "# **Saving the Best Model**"
   ]
  },
  {
   "cell_type": "code",
   "execution_count": 151,
   "id": "cf4040b7-dbaf-424b-a2a0-4e8590844138",
   "metadata": {},
   "outputs": [
    {
     "data": {
      "text/plain": [
       "['spam_classifier_scaler.pkl']"
      ]
     },
     "execution_count": 151,
     "metadata": {},
     "output_type": "execute_result"
    }
   ],
   "source": [
    "joblib.dump(best_rf, 'spam_classifier.pkl')\n",
    "joblib.dump(tfidf_vectorizer, 'tfidf_spam_classifier.pkl')\n",
    "joblib.dump(scaler, 'spam_classifier_scaler.pkl')"
   ]
  },
  {
   "cell_type": "code",
   "execution_count": 153,
   "id": "408d9751-091a-429e-afe9-34fe118529a6",
   "metadata": {},
   "outputs": [
    {
     "data": {
      "text/plain": [
       "['spam_classifier_lemmatizer.pkl']"
      ]
     },
     "execution_count": 153,
     "metadata": {},
     "output_type": "execute_result"
    }
   ],
   "source": [
    "joblib.dump(spell, 'spam_classifier_spell_checker.pkl')\n",
    "joblib.dump(lemmatizer, 'spam_classifier_lemmatizer.pkl')"
   ]
  },
  {
   "cell_type": "markdown",
   "id": "9a14fbbc-bd9a-42fd-b22e-94cbfcb9b412",
   "metadata": {},
   "source": [
    "# **Predicting Values**"
   ]
  },
  {
   "cell_type": "code",
   "execution_count": 205,
   "id": "fff06d34-6c33-40fb-8001-a73a75e3be4e",
   "metadata": {},
   "outputs": [],
   "source": [
    "def predictSpam(email):\n",
    "    email = email.lower()\n",
    "    URL = int(bool(re.search(r'https?://\\S+|www\\.\\S+|\\S+\\.\\S+\\.\\S+', email)))\n",
    "    email = remove_special_characters(email)\n",
    "    email = remove_hyperlinks(email)\n",
    "    Spelling_Mistake = count_spelling_mistakes(email)\n",
    "    Spam_Words = count_spam_words(email)\n",
    "    email = lemmatize_text(email)\n",
    "    email = remove_stopwords(email)\n",
    "    scaled_values = scaler.transform(np.array([[Spam_Words, Spelling_Mistake]])) \n",
    "    Spam_Words, Spelling_Mistake = scaled_values[0]\n",
    "    TFIDF = tfidf_vectorizer.transform([email])\n",
    "    INPUT = sp.hstack([TFIDF, np.array([[URL, Spelling_Mistake, Spam_Words]])], format='csr')\n",
    "    pred = best_rf.predict(INPUT)\n",
    "\n",
    "    if pred[0]:\n",
    "        print(\"Model Predicts Spam\")\n",
    "    else:\n",
    "        print(\"Model Predicts Not Spam\")"
   ]
  },
  {
   "cell_type": "code",
   "execution_count": 207,
   "id": "099030be-b58c-4194-8371-657cb944c5f7",
   "metadata": {},
   "outputs": [],
   "source": [
    "test_email_msg = \"\"\"Subject: Urgent Notification: You Have Won $1,000,000 \n",
    "\n",
    "Dear User,\n",
    "\n",
    "We are pleased to inform you that you have been selected as the winner of our $1,000,000 grand prize. This reward has been allocated to you as part of our annual customer appreciation program.\n",
    "\n",
    "To claim your prize, please follow these steps immediately:\n",
    "\n",
    "Click on the secure link below to verify your details:\n",
    "Claim Your Prize Now\n",
    "\n",
    "Complete the verification form with your full name, address, and banking details.\n",
    "\n",
    "Receive your funds within 24 hours.\n",
    "\n",
    "This is a limited-time offer, and failure to respond within the next 24 hours will result in the forfeiture of your winnings.\n",
    "\n",
    "For any questions, contact our support team at support@globalwinners.com.\n",
    "\n",
    "Sincerely,\n",
    "The Global Lottery Team\n",
    "Customer Support Department\n",
    "+1-800-FAKE-NUMBER\" \"\"\""
   ]
  },
  {
   "cell_type": "code",
   "execution_count": 209,
   "id": "fc342d70-e109-436e-a906-b5a4ca56e6ae",
   "metadata": {},
   "outputs": [
    {
     "name": "stdout",
     "output_type": "stream",
     "text": [
      "Model Predicts Spam\n"
     ]
    },
    {
     "name": "stderr",
     "output_type": "stream",
     "text": [
      "E:\\Anaconda\\Lib\\site-packages\\sklearn\\base.py:439: UserWarning: X does not have valid feature names, but MinMaxScaler was fitted with feature names\n",
      "  warnings.warn(\n"
     ]
    }
   ],
   "source": [
    "predictSpam(test_email_msg)"
   ]
  },
  {
   "cell_type": "code",
   "execution_count": 211,
   "id": "ea2b0d2f-ed9f-4672-8a26-b297f482af5c",
   "metadata": {},
   "outputs": [],
   "source": [
    "test_email_msg_2 = \"\"\"Subject: Meeting Reminder for Project Discussion  \n",
    "\n",
    "Hi John,  \n",
    "\n",
    "I hope you're doing well. This is a reminder about our upcoming meeting scheduled for **Monday, April 1st, at 3:00 PM**. We'll be discussing the progress of the project and the next steps.  \n",
    "\n",
    "Please let me know if you're available at this time or if we need to reschedule. Looking forward to your input.  \n",
    "\n",
    "Best regards,  \n",
    "Sameer Khawar  \n",
    "Project Manager  \n",
    "sameer.khawar@example.com   \"\"\""
   ]
  },
  {
   "cell_type": "code",
   "execution_count": 213,
   "id": "6b768022-431c-4b48-a588-513e10b622e7",
   "metadata": {},
   "outputs": [
    {
     "name": "stdout",
     "output_type": "stream",
     "text": [
      "Model Predicts Not Spam\n"
     ]
    },
    {
     "name": "stderr",
     "output_type": "stream",
     "text": [
      "E:\\Anaconda\\Lib\\site-packages\\sklearn\\base.py:439: UserWarning: X does not have valid feature names, but MinMaxScaler was fitted with feature names\n",
      "  warnings.warn(\n"
     ]
    }
   ],
   "source": [
    "predictSpam(test_email_msg_2)"
   ]
  },
  {
   "cell_type": "code",
   "execution_count": null,
   "id": "ad23b87f-09e2-4803-8118-5171dcc7127f",
   "metadata": {},
   "outputs": [],
   "source": []
  }
 ],
 "metadata": {
  "kernelspec": {
   "display_name": "Python 3 (ipykernel)",
   "language": "python",
   "name": "python3"
  },
  "language_info": {
   "codemirror_mode": {
    "name": "ipython",
    "version": 3
   },
   "file_extension": ".py",
   "mimetype": "text/x-python",
   "name": "python",
   "nbconvert_exporter": "python",
   "pygments_lexer": "ipython3",
   "version": "3.11.7"
  }
 },
 "nbformat": 4,
 "nbformat_minor": 5
}
